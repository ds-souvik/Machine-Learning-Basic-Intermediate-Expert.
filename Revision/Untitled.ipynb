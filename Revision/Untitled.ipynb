{
 "cells": [
  {
   "cell_type": "code",
   "execution_count": 43,
   "metadata": {},
   "outputs": [
    {
     "name": "stdout",
     "output_type": "stream",
     "text": [
      " ** \n",
      "*  *\n",
      "*  *\n",
      "****\n",
      "*  *\n",
      "*  *\n"
     ]
    }
   ],
   "source": [
    "count=0\n",
    "for i in range(0,6):\n",
    "    for j in range(0,4):\n",
    "        if (i!=0 and (j==0 or j==3)):\n",
    "            print('*', end='')\n",
    "        elif ((i==0 or i==3) and (j==1 or j==2)):\n",
    "            print('*', end='')\n",
    "            count+=1\n",
    "        else:\n",
    "            print(' ', end='')\n",
    "    print('')"
   ]
  },
  {
   "cell_type": "code",
   "execution_count": 58,
   "metadata": {},
   "outputs": [
    {
     "name": "stdout",
     "output_type": "stream",
     "text": [
      "00000000\n",
      "01111111\n",
      "01111111\n",
      "01111111\n",
      "01111111\n",
      "01111111\n",
      "01111111\n",
      "01111111\n"
     ]
    }
   ],
   "source": [
    "n=8\n",
    "for i in range (n):\n",
    "    for j in range(n):\n",
    "        if ((i!=0 or i==n-1) and (j!=0 or j==n)):\n",
    "            print('1', end='')\n",
    "        else:\n",
    "            print('0', end='')\n",
    "    print('')"
   ]
  },
  {
   "cell_type": "code",
   "execution_count": null,
   "metadata": {},
   "outputs": [],
   "source": []
  }
 ],
 "metadata": {
  "kernelspec": {
   "display_name": "Python 3",
   "language": "python",
   "name": "python3"
  },
  "language_info": {
   "codemirror_mode": {
    "name": "ipython",
    "version": 3
   },
   "file_extension": ".py",
   "mimetype": "text/x-python",
   "name": "python",
   "nbconvert_exporter": "python",
   "pygments_lexer": "ipython3",
   "version": "3.8.3"
  }
 },
 "nbformat": 4,
 "nbformat_minor": 4
}
