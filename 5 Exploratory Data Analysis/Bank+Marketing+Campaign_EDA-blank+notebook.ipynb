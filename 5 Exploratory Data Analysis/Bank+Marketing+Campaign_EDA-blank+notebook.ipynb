{
 "cells": [
  {
   "cell_type": "markdown",
   "metadata": {},
   "source": [
    "## Bank Telemarketing Campaign Case Study."
   ]
  },
  {
   "cell_type": "markdown",
   "metadata": {},
   "source": [
    "In this case study you’ll be learning Exploratory Data Analytics with the help of a case study on \"Bank marketing campaign\". This will enable you to understand why EDA is a most important step in the process of Machine Learning."
   ]
  },
  {
   "cell_type": "markdown",
   "metadata": {},
   "source": [
    "#### Problem Statement:"
   ]
  },
  {
   "cell_type": "markdown",
   "metadata": {},
   "source": [
    " \n",
    "\n",
    "The bank provides financial services/products such as savings accounts, current accounts, debit cards, etc. to its customers. In order to increase its overall revenue, the bank conducts various marketing campaigns for its financial products such as credit cards, term deposits, loans, etc. These campaigns are intended for the bank’s existing customers. However, the marketing campaigns need to be cost-efficient so that the bank not only increases their overall revenues but also the total profit. You need to apply your knowledge of EDA on the given dataset to analyse the patterns and provide inferences/solutions for the future marketing campaign.\n",
    "\n",
    "The bank conducted a telemarketing campaign for one of its financial products ‘Term Deposits’ to help foster long-term relationships with existing customers. The dataset contains information about all the customers who were contacted during a particular year to open term deposit accounts.\n",
    "\n",
    "\n",
    "**What is the term Deposit?**\n",
    "\n",
    "Term deposits also called fixed deposits, are the cash investments made for a specific time period ranging from 1 month to 5 years for predetermined fixed interest rates. The fixed interest rates offered for term deposits are higher than the regular interest rates for savings accounts. The customers receive the total amount (investment plus the interest) at the end of the maturity period. Also, the money can only be withdrawn at the end of the maturity period. Withdrawing money before that will result in an added penalty associated, and the customer will not receive any interest returns.\n",
    "\n",
    "Your target is to do end to end EDA on this bank telemarketing campaign data set to infer knowledge that where bank has to put more effort to improve it's positive response rate. "
   ]
  },
  {
   "cell_type": "markdown",
   "metadata": {},
   "source": [
    "#### Importing the libraries."
   ]
  },
  {
   "cell_type": "code",
   "execution_count": 1,
   "metadata": {},
   "outputs": [],
   "source": [
    "#import the warnings.\n",
    "import warnings\n",
    "warnings.filterwarnings('ignore')"
   ]
  },
  {
   "cell_type": "code",
   "execution_count": 2,
   "metadata": {},
   "outputs": [],
   "source": [
    "#import the useful libraries.\n",
    "import numpy as np\n",
    "import pandas as pd\n",
    "import matplotlib.pyplot as plt\n",
    "import seaborn as sns"
   ]
  },
  {
   "cell_type": "markdown",
   "metadata": {},
   "source": [
    "## Session- 2, Data Cleaning "
   ]
  },
  {
   "cell_type": "markdown",
   "metadata": {},
   "source": [
    "### Segment- 2, Data Types "
   ]
  },
  {
   "cell_type": "markdown",
   "metadata": {},
   "source": [
    "There are multiple types of data types available in the data set. some of them are numerical type and some of categorical type. You are required to get the idea about the data types after reading the data frame. \n",
    "\n",
    "Following are the some of the types of variables:\n",
    "- **Numeric data type**: banking dataset: salary, balance, duration and age.\n",
    "- **Categorical data type**: banking dataset: education, job, marital, poutcome and month etc.\n",
    "- **Ordinal data type**: banking dataset: Age group.\n",
    "- **Time and date type** \n",
    "- **Coordinates type of data**: latitude and longitude type.\n"
   ]
  },
  {
   "cell_type": "markdown",
   "metadata": {},
   "source": [
    "#### Read in the Data set. "
   ]
  },
  {
   "cell_type": "code",
   "execution_count": 3,
   "metadata": {},
   "outputs": [],
   "source": [
    "#read the data set of \"bank telemarketing campaign\" in inp0.\n",
    "inp0= pd.read_csv('bank_marketing_updated_v1.csv')"
   ]
  },
  {
   "cell_type": "code",
   "execution_count": 4,
   "metadata": {},
   "outputs": [
    {
     "data": {
      "text/html": [
       "<div>\n",
       "<style scoped>\n",
       "    .dataframe tbody tr th:only-of-type {\n",
       "        vertical-align: middle;\n",
       "    }\n",
       "\n",
       "    .dataframe tbody tr th {\n",
       "        vertical-align: top;\n",
       "    }\n",
       "\n",
       "    .dataframe thead th {\n",
       "        text-align: right;\n",
       "    }\n",
       "</style>\n",
       "<table border=\"1\" class=\"dataframe\">\n",
       "  <thead>\n",
       "    <tr style=\"text-align: right;\">\n",
       "      <th></th>\n",
       "      <th>banking marketing</th>\n",
       "      <th>Unnamed: 1</th>\n",
       "      <th>Unnamed: 2</th>\n",
       "      <th>Unnamed: 3</th>\n",
       "      <th>Unnamed: 4</th>\n",
       "      <th>Unnamed: 5</th>\n",
       "      <th>Unnamed: 6</th>\n",
       "      <th>Unnamed: 7</th>\n",
       "      <th>Unnamed: 8</th>\n",
       "      <th>Unnamed: 9</th>\n",
       "      <th>Unnamed: 10</th>\n",
       "      <th>Unnamed: 11</th>\n",
       "      <th>Unnamed: 12</th>\n",
       "      <th>Unnamed: 13</th>\n",
       "      <th>Unnamed: 14</th>\n",
       "      <th>Unnamed: 15</th>\n",
       "      <th>Unnamed: 16</th>\n",
       "      <th>Unnamed: 17</th>\n",
       "      <th>Unnamed: 18</th>\n",
       "    </tr>\n",
       "  </thead>\n",
       "  <tbody>\n",
       "    <tr>\n",
       "      <th>0</th>\n",
       "      <td>customer id and age.</td>\n",
       "      <td>NaN</td>\n",
       "      <td>Customer salary and balance.</td>\n",
       "      <td>NaN</td>\n",
       "      <td>Customer marital status and job with education...</td>\n",
       "      <td>NaN</td>\n",
       "      <td>particular customer before targeted or not</td>\n",
       "      <td>NaN</td>\n",
       "      <td>Loan types: loans or housing loans</td>\n",
       "      <td>NaN</td>\n",
       "      <td>Contact type</td>\n",
       "      <td>NaN</td>\n",
       "      <td>month of contact</td>\n",
       "      <td>duration of call</td>\n",
       "      <td>NaN</td>\n",
       "      <td>NaN</td>\n",
       "      <td>NaN</td>\n",
       "      <td>outcome of previous contact</td>\n",
       "      <td>response of customer after call happned</td>\n",
       "    </tr>\n",
       "    <tr>\n",
       "      <th>1</th>\n",
       "      <td>customerid</td>\n",
       "      <td>age</td>\n",
       "      <td>salary</td>\n",
       "      <td>balance</td>\n",
       "      <td>marital</td>\n",
       "      <td>jobedu</td>\n",
       "      <td>targeted</td>\n",
       "      <td>default</td>\n",
       "      <td>housing</td>\n",
       "      <td>loan</td>\n",
       "      <td>contact</td>\n",
       "      <td>day</td>\n",
       "      <td>month</td>\n",
       "      <td>duration</td>\n",
       "      <td>campaign</td>\n",
       "      <td>pdays</td>\n",
       "      <td>previous</td>\n",
       "      <td>poutcome</td>\n",
       "      <td>response</td>\n",
       "    </tr>\n",
       "    <tr>\n",
       "      <th>2</th>\n",
       "      <td>1</td>\n",
       "      <td>58</td>\n",
       "      <td>100000</td>\n",
       "      <td>2143</td>\n",
       "      <td>married</td>\n",
       "      <td>management,tertiary</td>\n",
       "      <td>yes</td>\n",
       "      <td>no</td>\n",
       "      <td>yes</td>\n",
       "      <td>no</td>\n",
       "      <td>unknown</td>\n",
       "      <td>5</td>\n",
       "      <td>may, 2017</td>\n",
       "      <td>261 sec</td>\n",
       "      <td>1</td>\n",
       "      <td>-1</td>\n",
       "      <td>0</td>\n",
       "      <td>unknown</td>\n",
       "      <td>no</td>\n",
       "    </tr>\n",
       "    <tr>\n",
       "      <th>3</th>\n",
       "      <td>2</td>\n",
       "      <td>44</td>\n",
       "      <td>60000</td>\n",
       "      <td>29</td>\n",
       "      <td>single</td>\n",
       "      <td>technician,secondary</td>\n",
       "      <td>yes</td>\n",
       "      <td>no</td>\n",
       "      <td>yes</td>\n",
       "      <td>no</td>\n",
       "      <td>unknown</td>\n",
       "      <td>5</td>\n",
       "      <td>may, 2017</td>\n",
       "      <td>151 sec</td>\n",
       "      <td>1</td>\n",
       "      <td>-1</td>\n",
       "      <td>0</td>\n",
       "      <td>unknown</td>\n",
       "      <td>no</td>\n",
       "    </tr>\n",
       "    <tr>\n",
       "      <th>4</th>\n",
       "      <td>3</td>\n",
       "      <td>33</td>\n",
       "      <td>120000</td>\n",
       "      <td>2</td>\n",
       "      <td>married</td>\n",
       "      <td>entrepreneur,secondary</td>\n",
       "      <td>yes</td>\n",
       "      <td>no</td>\n",
       "      <td>yes</td>\n",
       "      <td>yes</td>\n",
       "      <td>unknown</td>\n",
       "      <td>5</td>\n",
       "      <td>may, 2017</td>\n",
       "      <td>76 sec</td>\n",
       "      <td>1</td>\n",
       "      <td>-1</td>\n",
       "      <td>0</td>\n",
       "      <td>unknown</td>\n",
       "      <td>no</td>\n",
       "    </tr>\n",
       "  </tbody>\n",
       "</table>\n",
       "</div>"
      ],
      "text/plain": [
       "      banking marketing Unnamed: 1                    Unnamed: 2 Unnamed: 3  \\\n",
       "0  customer id and age.        NaN  Customer salary and balance.        NaN   \n",
       "1            customerid        age                        salary    balance   \n",
       "2                     1         58                        100000       2143   \n",
       "3                     2         44                         60000         29   \n",
       "4                     3         33                        120000          2   \n",
       "\n",
       "                                          Unnamed: 4              Unnamed: 5  \\\n",
       "0  Customer marital status and job with education...                     NaN   \n",
       "1                                            marital                  jobedu   \n",
       "2                                            married     management,tertiary   \n",
       "3                                             single    technician,secondary   \n",
       "4                                            married  entrepreneur,secondary   \n",
       "\n",
       "                                   Unnamed: 6 Unnamed: 7  \\\n",
       "0  particular customer before targeted or not        NaN   \n",
       "1                                    targeted    default   \n",
       "2                                         yes         no   \n",
       "3                                         yes         no   \n",
       "4                                         yes         no   \n",
       "\n",
       "                           Unnamed: 8 Unnamed: 9   Unnamed: 10 Unnamed: 11  \\\n",
       "0  Loan types: loans or housing loans        NaN  Contact type         NaN   \n",
       "1                             housing       loan       contact         day   \n",
       "2                                 yes         no       unknown           5   \n",
       "3                                 yes         no       unknown           5   \n",
       "4                                 yes        yes       unknown           5   \n",
       "\n",
       "        Unnamed: 12       Unnamed: 13 Unnamed: 14 Unnamed: 15 Unnamed: 16  \\\n",
       "0  month of contact  duration of call         NaN         NaN         NaN   \n",
       "1             month          duration    campaign       pdays    previous   \n",
       "2         may, 2017           261 sec           1          -1           0   \n",
       "3         may, 2017           151 sec           1          -1           0   \n",
       "4         may, 2017            76 sec           1          -1           0   \n",
       "\n",
       "                   Unnamed: 17                              Unnamed: 18  \n",
       "0  outcome of previous contact  response of customer after call happned  \n",
       "1                     poutcome                                 response  \n",
       "2                      unknown                                       no  \n",
       "3                      unknown                                       no  \n",
       "4                      unknown                                       no  "
      ]
     },
     "execution_count": 4,
     "metadata": {},
     "output_type": "execute_result"
    }
   ],
   "source": [
    "#Print the head of the data frame.\n",
    "inp0.head()"
   ]
  },
  {
   "cell_type": "markdown",
   "metadata": {},
   "source": [
    "### Segment- 3, Fixing the Rows and Columns "
   ]
  },
  {
   "cell_type": "markdown",
   "metadata": {},
   "source": [
    "Checklist for fixing rows:\n",
    "- **Delete summary rows**: Total and Subtotal rows\n",
    "- **Delete incorrect rows**: Header row and footer row\n",
    "- **Delete extra rows**: Column number, indicators, Blank rows, Page No.\n",
    "\n",
    "Checklist for fixing columns:\n",
    "- **Merge columns for creating unique identifiers**, if needed, for example, merge the columns State and City into the column Full address.\n",
    "- **Split columns to get more data**: Split the Address column to get State and City columns to analyse each separately. \n",
    "- **Add column names**: Add column names if missing.\n",
    "- **Rename columns consistently**: Abbreviations, encoded columns.\n",
    "- **Delete columns**: Delete unnecessary columns.\n",
    "- **Align misaligned columns**: The data set may have shifted columns, which you need to align correctly.\n"
   ]
  },
  {
   "cell_type": "markdown",
   "metadata": {},
   "source": [
    "#### Read the file without unnecessary headers."
   ]
  },
  {
   "cell_type": "markdown",
   "metadata": {},
   "source": [
    "Since the header and the first row in the dataframe is quite wierd, we need to remiove those two rows. How I achieved it first?\n",
    "Made the third row as header by:\n",
    "\n",
    "#### inp0.columns=inp0.iloc[1]\n",
    "\n",
    "Dropped the first and second row:\n",
    "\n",
    "#### inp0=inp0[2:]\n",
    "\n",
    "But it could have been done easily with an easy one step code:"
   ]
  },
  {
   "cell_type": "code",
   "execution_count": 5,
   "metadata": {},
   "outputs": [],
   "source": [
    "#read the file in inp0 without first two rows as it is of no use.\n",
    "inp0=pd.read_csv('bank_marketing_updated_v1.csv', skiprows=2)"
   ]
  },
  {
   "cell_type": "code",
   "execution_count": 6,
   "metadata": {},
   "outputs": [
    {
     "data": {
      "text/html": [
       "<div>\n",
       "<style scoped>\n",
       "    .dataframe tbody tr th:only-of-type {\n",
       "        vertical-align: middle;\n",
       "    }\n",
       "\n",
       "    .dataframe tbody tr th {\n",
       "        vertical-align: top;\n",
       "    }\n",
       "\n",
       "    .dataframe thead th {\n",
       "        text-align: right;\n",
       "    }\n",
       "</style>\n",
       "<table border=\"1\" class=\"dataframe\">\n",
       "  <thead>\n",
       "    <tr style=\"text-align: right;\">\n",
       "      <th></th>\n",
       "      <th>customerid</th>\n",
       "      <th>age</th>\n",
       "      <th>salary</th>\n",
       "      <th>balance</th>\n",
       "      <th>marital</th>\n",
       "      <th>jobedu</th>\n",
       "      <th>targeted</th>\n",
       "      <th>default</th>\n",
       "      <th>housing</th>\n",
       "      <th>loan</th>\n",
       "      <th>contact</th>\n",
       "      <th>day</th>\n",
       "      <th>month</th>\n",
       "      <th>duration</th>\n",
       "      <th>campaign</th>\n",
       "      <th>pdays</th>\n",
       "      <th>previous</th>\n",
       "      <th>poutcome</th>\n",
       "      <th>response</th>\n",
       "    </tr>\n",
       "  </thead>\n",
       "  <tbody>\n",
       "    <tr>\n",
       "      <th>0</th>\n",
       "      <td>1</td>\n",
       "      <td>58.0</td>\n",
       "      <td>100000</td>\n",
       "      <td>2143</td>\n",
       "      <td>married</td>\n",
       "      <td>management,tertiary</td>\n",
       "      <td>yes</td>\n",
       "      <td>no</td>\n",
       "      <td>yes</td>\n",
       "      <td>no</td>\n",
       "      <td>unknown</td>\n",
       "      <td>5</td>\n",
       "      <td>may, 2017</td>\n",
       "      <td>261 sec</td>\n",
       "      <td>1</td>\n",
       "      <td>-1</td>\n",
       "      <td>0</td>\n",
       "      <td>unknown</td>\n",
       "      <td>no</td>\n",
       "    </tr>\n",
       "    <tr>\n",
       "      <th>1</th>\n",
       "      <td>2</td>\n",
       "      <td>44.0</td>\n",
       "      <td>60000</td>\n",
       "      <td>29</td>\n",
       "      <td>single</td>\n",
       "      <td>technician,secondary</td>\n",
       "      <td>yes</td>\n",
       "      <td>no</td>\n",
       "      <td>yes</td>\n",
       "      <td>no</td>\n",
       "      <td>unknown</td>\n",
       "      <td>5</td>\n",
       "      <td>may, 2017</td>\n",
       "      <td>151 sec</td>\n",
       "      <td>1</td>\n",
       "      <td>-1</td>\n",
       "      <td>0</td>\n",
       "      <td>unknown</td>\n",
       "      <td>no</td>\n",
       "    </tr>\n",
       "    <tr>\n",
       "      <th>2</th>\n",
       "      <td>3</td>\n",
       "      <td>33.0</td>\n",
       "      <td>120000</td>\n",
       "      <td>2</td>\n",
       "      <td>married</td>\n",
       "      <td>entrepreneur,secondary</td>\n",
       "      <td>yes</td>\n",
       "      <td>no</td>\n",
       "      <td>yes</td>\n",
       "      <td>yes</td>\n",
       "      <td>unknown</td>\n",
       "      <td>5</td>\n",
       "      <td>may, 2017</td>\n",
       "      <td>76 sec</td>\n",
       "      <td>1</td>\n",
       "      <td>-1</td>\n",
       "      <td>0</td>\n",
       "      <td>unknown</td>\n",
       "      <td>no</td>\n",
       "    </tr>\n",
       "    <tr>\n",
       "      <th>3</th>\n",
       "      <td>4</td>\n",
       "      <td>47.0</td>\n",
       "      <td>20000</td>\n",
       "      <td>1506</td>\n",
       "      <td>married</td>\n",
       "      <td>blue-collar,unknown</td>\n",
       "      <td>no</td>\n",
       "      <td>no</td>\n",
       "      <td>yes</td>\n",
       "      <td>no</td>\n",
       "      <td>unknown</td>\n",
       "      <td>5</td>\n",
       "      <td>may, 2017</td>\n",
       "      <td>92 sec</td>\n",
       "      <td>1</td>\n",
       "      <td>-1</td>\n",
       "      <td>0</td>\n",
       "      <td>unknown</td>\n",
       "      <td>no</td>\n",
       "    </tr>\n",
       "    <tr>\n",
       "      <th>4</th>\n",
       "      <td>5</td>\n",
       "      <td>33.0</td>\n",
       "      <td>0</td>\n",
       "      <td>1</td>\n",
       "      <td>single</td>\n",
       "      <td>unknown,unknown</td>\n",
       "      <td>no</td>\n",
       "      <td>no</td>\n",
       "      <td>no</td>\n",
       "      <td>no</td>\n",
       "      <td>unknown</td>\n",
       "      <td>5</td>\n",
       "      <td>may, 2017</td>\n",
       "      <td>198 sec</td>\n",
       "      <td>1</td>\n",
       "      <td>-1</td>\n",
       "      <td>0</td>\n",
       "      <td>unknown</td>\n",
       "      <td>no</td>\n",
       "    </tr>\n",
       "  </tbody>\n",
       "</table>\n",
       "</div>"
      ],
      "text/plain": [
       "   customerid   age  salary  balance  marital                  jobedu  \\\n",
       "0           1  58.0  100000     2143  married     management,tertiary   \n",
       "1           2  44.0   60000       29   single    technician,secondary   \n",
       "2           3  33.0  120000        2  married  entrepreneur,secondary   \n",
       "3           4  47.0   20000     1506  married     blue-collar,unknown   \n",
       "4           5  33.0       0        1   single         unknown,unknown   \n",
       "\n",
       "  targeted default housing loan  contact  day      month duration  campaign  \\\n",
       "0      yes      no     yes   no  unknown    5  may, 2017  261 sec         1   \n",
       "1      yes      no     yes   no  unknown    5  may, 2017  151 sec         1   \n",
       "2      yes      no     yes  yes  unknown    5  may, 2017   76 sec         1   \n",
       "3       no      no     yes   no  unknown    5  may, 2017   92 sec         1   \n",
       "4       no      no      no   no  unknown    5  may, 2017  198 sec         1   \n",
       "\n",
       "   pdays  previous poutcome response  \n",
       "0     -1         0  unknown       no  \n",
       "1     -1         0  unknown       no  \n",
       "2     -1         0  unknown       no  \n",
       "3     -1         0  unknown       no  \n",
       "4     -1         0  unknown       no  "
      ]
     },
     "execution_count": 6,
     "metadata": {},
     "output_type": "execute_result"
    }
   ],
   "source": [
    "#print the head of the data frame.\n",
    "inp0.head()"
   ]
  },
  {
   "cell_type": "code",
   "execution_count": 7,
   "metadata": {},
   "outputs": [
    {
     "name": "stdout",
     "output_type": "stream",
     "text": [
      "<class 'pandas.core.frame.DataFrame'>\n",
      "RangeIndex: 45211 entries, 0 to 45210\n",
      "Data columns (total 19 columns):\n",
      " #   Column      Non-Null Count  Dtype  \n",
      "---  ------      --------------  -----  \n",
      " 0   customerid  45211 non-null  int64  \n",
      " 1   age         45191 non-null  float64\n",
      " 2   salary      45211 non-null  int64  \n",
      " 3   balance     45211 non-null  int64  \n",
      " 4   marital     45211 non-null  object \n",
      " 5   jobedu      45211 non-null  object \n",
      " 6   targeted    45211 non-null  object \n",
      " 7   default     45211 non-null  object \n",
      " 8   housing     45211 non-null  object \n",
      " 9   loan        45211 non-null  object \n",
      " 10  contact     45211 non-null  object \n",
      " 11  day         45211 non-null  int64  \n",
      " 12  month       45161 non-null  object \n",
      " 13  duration    45211 non-null  object \n",
      " 14  campaign    45211 non-null  int64  \n",
      " 15  pdays       45211 non-null  int64  \n",
      " 16  previous    45211 non-null  int64  \n",
      " 17  poutcome    45211 non-null  object \n",
      " 18  response    45181 non-null  object \n",
      "dtypes: float64(1), int64(7), object(11)\n",
      "memory usage: 6.6+ MB\n"
     ]
    }
   ],
   "source": [
    "#print the information of variables to check their data types.\n",
    "inp0.info()"
   ]
  },
  {
   "cell_type": "code",
   "execution_count": 8,
   "metadata": {},
   "outputs": [],
   "source": [
    "#convert the age variable data type from float to integer.\n",
    "# inp0=inp0[~inp0.age.isnull()]\n",
    "# inp0.age=inp0.age.astype(int)"
   ]
  },
  {
   "cell_type": "code",
   "execution_count": 9,
   "metadata": {},
   "outputs": [
    {
     "data": {
      "text/plain": [
       "(45211, 19)"
      ]
     },
     "execution_count": 9,
     "metadata": {},
     "output_type": "execute_result"
    }
   ],
   "source": [
    "inp0.shape"
   ]
  },
  {
   "cell_type": "code",
   "execution_count": 10,
   "metadata": {},
   "outputs": [
    {
     "data": {
      "text/plain": [
       "40.93565090394105"
      ]
     },
     "execution_count": 10,
     "metadata": {},
     "output_type": "execute_result"
    }
   ],
   "source": [
    "#print the average age of customers.\n",
    "inp0.age.mean()"
   ]
  },
  {
   "cell_type": "markdown",
   "metadata": {},
   "source": [
    "#### Dropping customer id column. "
   ]
  },
  {
   "cell_type": "code",
   "execution_count": 11,
   "metadata": {},
   "outputs": [],
   "source": [
    "#drop the customer id as it is of no use.\n",
    "inp0=inp0.drop('customerid',axis=1)"
   ]
  },
  {
   "cell_type": "code",
   "execution_count": 12,
   "metadata": {},
   "outputs": [
    {
     "data": {
      "text/html": [
       "<div>\n",
       "<style scoped>\n",
       "    .dataframe tbody tr th:only-of-type {\n",
       "        vertical-align: middle;\n",
       "    }\n",
       "\n",
       "    .dataframe tbody tr th {\n",
       "        vertical-align: top;\n",
       "    }\n",
       "\n",
       "    .dataframe thead th {\n",
       "        text-align: right;\n",
       "    }\n",
       "</style>\n",
       "<table border=\"1\" class=\"dataframe\">\n",
       "  <thead>\n",
       "    <tr style=\"text-align: right;\">\n",
       "      <th></th>\n",
       "      <th>age</th>\n",
       "      <th>salary</th>\n",
       "      <th>balance</th>\n",
       "      <th>marital</th>\n",
       "      <th>jobedu</th>\n",
       "      <th>targeted</th>\n",
       "      <th>default</th>\n",
       "      <th>housing</th>\n",
       "      <th>loan</th>\n",
       "      <th>contact</th>\n",
       "      <th>day</th>\n",
       "      <th>month</th>\n",
       "      <th>duration</th>\n",
       "      <th>campaign</th>\n",
       "      <th>pdays</th>\n",
       "      <th>previous</th>\n",
       "      <th>poutcome</th>\n",
       "      <th>response</th>\n",
       "    </tr>\n",
       "  </thead>\n",
       "  <tbody>\n",
       "    <tr>\n",
       "      <th>0</th>\n",
       "      <td>58.0</td>\n",
       "      <td>100000</td>\n",
       "      <td>2143</td>\n",
       "      <td>married</td>\n",
       "      <td>management,tertiary</td>\n",
       "      <td>yes</td>\n",
       "      <td>no</td>\n",
       "      <td>yes</td>\n",
       "      <td>no</td>\n",
       "      <td>unknown</td>\n",
       "      <td>5</td>\n",
       "      <td>may, 2017</td>\n",
       "      <td>261 sec</td>\n",
       "      <td>1</td>\n",
       "      <td>-1</td>\n",
       "      <td>0</td>\n",
       "      <td>unknown</td>\n",
       "      <td>no</td>\n",
       "    </tr>\n",
       "    <tr>\n",
       "      <th>1</th>\n",
       "      <td>44.0</td>\n",
       "      <td>60000</td>\n",
       "      <td>29</td>\n",
       "      <td>single</td>\n",
       "      <td>technician,secondary</td>\n",
       "      <td>yes</td>\n",
       "      <td>no</td>\n",
       "      <td>yes</td>\n",
       "      <td>no</td>\n",
       "      <td>unknown</td>\n",
       "      <td>5</td>\n",
       "      <td>may, 2017</td>\n",
       "      <td>151 sec</td>\n",
       "      <td>1</td>\n",
       "      <td>-1</td>\n",
       "      <td>0</td>\n",
       "      <td>unknown</td>\n",
       "      <td>no</td>\n",
       "    </tr>\n",
       "    <tr>\n",
       "      <th>2</th>\n",
       "      <td>33.0</td>\n",
       "      <td>120000</td>\n",
       "      <td>2</td>\n",
       "      <td>married</td>\n",
       "      <td>entrepreneur,secondary</td>\n",
       "      <td>yes</td>\n",
       "      <td>no</td>\n",
       "      <td>yes</td>\n",
       "      <td>yes</td>\n",
       "      <td>unknown</td>\n",
       "      <td>5</td>\n",
       "      <td>may, 2017</td>\n",
       "      <td>76 sec</td>\n",
       "      <td>1</td>\n",
       "      <td>-1</td>\n",
       "      <td>0</td>\n",
       "      <td>unknown</td>\n",
       "      <td>no</td>\n",
       "    </tr>\n",
       "    <tr>\n",
       "      <th>3</th>\n",
       "      <td>47.0</td>\n",
       "      <td>20000</td>\n",
       "      <td>1506</td>\n",
       "      <td>married</td>\n",
       "      <td>blue-collar,unknown</td>\n",
       "      <td>no</td>\n",
       "      <td>no</td>\n",
       "      <td>yes</td>\n",
       "      <td>no</td>\n",
       "      <td>unknown</td>\n",
       "      <td>5</td>\n",
       "      <td>may, 2017</td>\n",
       "      <td>92 sec</td>\n",
       "      <td>1</td>\n",
       "      <td>-1</td>\n",
       "      <td>0</td>\n",
       "      <td>unknown</td>\n",
       "      <td>no</td>\n",
       "    </tr>\n",
       "    <tr>\n",
       "      <th>4</th>\n",
       "      <td>33.0</td>\n",
       "      <td>0</td>\n",
       "      <td>1</td>\n",
       "      <td>single</td>\n",
       "      <td>unknown,unknown</td>\n",
       "      <td>no</td>\n",
       "      <td>no</td>\n",
       "      <td>no</td>\n",
       "      <td>no</td>\n",
       "      <td>unknown</td>\n",
       "      <td>5</td>\n",
       "      <td>may, 2017</td>\n",
       "      <td>198 sec</td>\n",
       "      <td>1</td>\n",
       "      <td>-1</td>\n",
       "      <td>0</td>\n",
       "      <td>unknown</td>\n",
       "      <td>no</td>\n",
       "    </tr>\n",
       "  </tbody>\n",
       "</table>\n",
       "</div>"
      ],
      "text/plain": [
       "    age  salary  balance  marital                  jobedu targeted default  \\\n",
       "0  58.0  100000     2143  married     management,tertiary      yes      no   \n",
       "1  44.0   60000       29   single    technician,secondary      yes      no   \n",
       "2  33.0  120000        2  married  entrepreneur,secondary      yes      no   \n",
       "3  47.0   20000     1506  married     blue-collar,unknown       no      no   \n",
       "4  33.0       0        1   single         unknown,unknown       no      no   \n",
       "\n",
       "  housing loan  contact  day      month duration  campaign  pdays  previous  \\\n",
       "0     yes   no  unknown    5  may, 2017  261 sec         1     -1         0   \n",
       "1     yes   no  unknown    5  may, 2017  151 sec         1     -1         0   \n",
       "2     yes  yes  unknown    5  may, 2017   76 sec         1     -1         0   \n",
       "3     yes   no  unknown    5  may, 2017   92 sec         1     -1         0   \n",
       "4      no   no  unknown    5  may, 2017  198 sec         1     -1         0   \n",
       "\n",
       "  poutcome response  \n",
       "0  unknown       no  \n",
       "1  unknown       no  \n",
       "2  unknown       no  \n",
       "3  unknown       no  \n",
       "4  unknown       no  "
      ]
     },
     "execution_count": 12,
     "metadata": {},
     "output_type": "execute_result"
    }
   ],
   "source": [
    "inp0.head()"
   ]
  },
  {
   "cell_type": "markdown",
   "metadata": {},
   "source": [
    "### Dividing \"jobedu\" column into job and education categories. "
   ]
  },
  {
   "cell_type": "markdown",
   "metadata": {},
   "source": [
    "#### <font color=Brown>There are 2 ways to divide jobedu into 2 columns. Either divide it in 2 different steps as:</font>\n",
    "\n",
    "inp0['job']= inp0.jobedu.apply(lambda x: x.split(',')[0])\n",
    "\n",
    "inp0['education']= inp0.jobedu.apply(lambda x: x.split(',')[1])\n",
    "\n",
    "#### <font color=Brown>Or it can be done in a single step as:</font>"
   ]
  },
  {
   "cell_type": "code",
   "execution_count": 13,
   "metadata": {},
   "outputs": [],
   "source": [
    "inp0[['job', 'education']]=inp0.jobedu.str.split(',',expand=True,)"
   ]
  },
  {
   "cell_type": "code",
   "execution_count": 14,
   "metadata": {},
   "outputs": [],
   "source": [
    "#drop the \"jobedu\" column from the dataframe.\n",
    "inp0=inp0.drop('jobedu',axis=1)"
   ]
  },
  {
   "cell_type": "code",
   "execution_count": 15,
   "metadata": {},
   "outputs": [
    {
     "ename": "AttributeError",
     "evalue": "'float' object has no attribute 'split'",
     "output_type": "error",
     "traceback": [
      "\u001b[1;31m---------------------------------------------------------------------------\u001b[0m",
      "\u001b[1;31mAttributeError\u001b[0m                            Traceback (most recent call last)",
      "\u001b[1;32m<ipython-input-15-26a236185982>\u001b[0m in \u001b[0;36m<module>\u001b[1;34m\u001b[0m\n\u001b[1;32m----> 1\u001b[1;33m \u001b[0minp0\u001b[0m\u001b[1;33m[\u001b[0m\u001b[1;34m'month'\u001b[0m\u001b[1;33m]\u001b[0m\u001b[1;33m=\u001b[0m\u001b[0minp0\u001b[0m\u001b[1;33m.\u001b[0m\u001b[0mmonth\u001b[0m\u001b[1;33m.\u001b[0m\u001b[0mapply\u001b[0m\u001b[1;33m(\u001b[0m\u001b[1;32mlambda\u001b[0m \u001b[0mx\u001b[0m\u001b[1;33m:\u001b[0m\u001b[0mx\u001b[0m\u001b[1;33m.\u001b[0m\u001b[0msplit\u001b[0m\u001b[1;33m(\u001b[0m\u001b[1;34m','\u001b[0m\u001b[1;33m)\u001b[0m\u001b[1;33m[\u001b[0m\u001b[1;36m0\u001b[0m\u001b[1;33m]\u001b[0m\u001b[1;33m)\u001b[0m\u001b[1;33m\u001b[0m\u001b[1;33m\u001b[0m\u001b[0m\n\u001b[0m\u001b[0;32m      2\u001b[0m \u001b[0minp0\u001b[0m\u001b[1;33m.\u001b[0m\u001b[0mhead\u001b[0m\u001b[1;33m(\u001b[0m\u001b[1;33m)\u001b[0m\u001b[1;33m\u001b[0m\u001b[1;33m\u001b[0m\u001b[0m\n",
      "\u001b[1;32m~\\anaconda3\\lib\\site-packages\\pandas\\core\\series.py\u001b[0m in \u001b[0;36mapply\u001b[1;34m(self, func, convert_dtype, args, **kwds)\u001b[0m\n\u001b[0;32m   3846\u001b[0m             \u001b[1;32melse\u001b[0m\u001b[1;33m:\u001b[0m\u001b[1;33m\u001b[0m\u001b[1;33m\u001b[0m\u001b[0m\n\u001b[0;32m   3847\u001b[0m                 \u001b[0mvalues\u001b[0m \u001b[1;33m=\u001b[0m \u001b[0mself\u001b[0m\u001b[1;33m.\u001b[0m\u001b[0mastype\u001b[0m\u001b[1;33m(\u001b[0m\u001b[0mobject\u001b[0m\u001b[1;33m)\u001b[0m\u001b[1;33m.\u001b[0m\u001b[0mvalues\u001b[0m\u001b[1;33m\u001b[0m\u001b[1;33m\u001b[0m\u001b[0m\n\u001b[1;32m-> 3848\u001b[1;33m                 \u001b[0mmapped\u001b[0m \u001b[1;33m=\u001b[0m \u001b[0mlib\u001b[0m\u001b[1;33m.\u001b[0m\u001b[0mmap_infer\u001b[0m\u001b[1;33m(\u001b[0m\u001b[0mvalues\u001b[0m\u001b[1;33m,\u001b[0m \u001b[0mf\u001b[0m\u001b[1;33m,\u001b[0m \u001b[0mconvert\u001b[0m\u001b[1;33m=\u001b[0m\u001b[0mconvert_dtype\u001b[0m\u001b[1;33m)\u001b[0m\u001b[1;33m\u001b[0m\u001b[1;33m\u001b[0m\u001b[0m\n\u001b[0m\u001b[0;32m   3849\u001b[0m \u001b[1;33m\u001b[0m\u001b[0m\n\u001b[0;32m   3850\u001b[0m         \u001b[1;32mif\u001b[0m \u001b[0mlen\u001b[0m\u001b[1;33m(\u001b[0m\u001b[0mmapped\u001b[0m\u001b[1;33m)\u001b[0m \u001b[1;32mand\u001b[0m \u001b[0misinstance\u001b[0m\u001b[1;33m(\u001b[0m\u001b[0mmapped\u001b[0m\u001b[1;33m[\u001b[0m\u001b[1;36m0\u001b[0m\u001b[1;33m]\u001b[0m\u001b[1;33m,\u001b[0m \u001b[0mSeries\u001b[0m\u001b[1;33m)\u001b[0m\u001b[1;33m:\u001b[0m\u001b[1;33m\u001b[0m\u001b[1;33m\u001b[0m\u001b[0m\n",
      "\u001b[1;32mpandas\\_libs\\lib.pyx\u001b[0m in \u001b[0;36mpandas._libs.lib.map_infer\u001b[1;34m()\u001b[0m\n",
      "\u001b[1;32m<ipython-input-15-26a236185982>\u001b[0m in \u001b[0;36m<lambda>\u001b[1;34m(x)\u001b[0m\n\u001b[1;32m----> 1\u001b[1;33m \u001b[0minp0\u001b[0m\u001b[1;33m[\u001b[0m\u001b[1;34m'month'\u001b[0m\u001b[1;33m]\u001b[0m\u001b[1;33m=\u001b[0m\u001b[0minp0\u001b[0m\u001b[1;33m.\u001b[0m\u001b[0mmonth\u001b[0m\u001b[1;33m.\u001b[0m\u001b[0mapply\u001b[0m\u001b[1;33m(\u001b[0m\u001b[1;32mlambda\u001b[0m \u001b[0mx\u001b[0m\u001b[1;33m:\u001b[0m\u001b[0mx\u001b[0m\u001b[1;33m.\u001b[0m\u001b[0msplit\u001b[0m\u001b[1;33m(\u001b[0m\u001b[1;34m','\u001b[0m\u001b[1;33m)\u001b[0m\u001b[1;33m[\u001b[0m\u001b[1;36m0\u001b[0m\u001b[1;33m]\u001b[0m\u001b[1;33m)\u001b[0m\u001b[1;33m\u001b[0m\u001b[1;33m\u001b[0m\u001b[0m\n\u001b[0m\u001b[0;32m      2\u001b[0m \u001b[0minp0\u001b[0m\u001b[1;33m.\u001b[0m\u001b[0mhead\u001b[0m\u001b[1;33m(\u001b[0m\u001b[1;33m)\u001b[0m\u001b[1;33m\u001b[0m\u001b[1;33m\u001b[0m\u001b[0m\n",
      "\u001b[1;31mAttributeError\u001b[0m: 'float' object has no attribute 'split'"
     ]
    }
   ],
   "source": [
    "inp0['month']=inp0.month.apply(lambda x:x.split(',')[0])\n",
    "inp0.head()"
   ]
  },
  {
   "cell_type": "markdown",
   "metadata": {},
   "source": [
    "### Segment- 4, Impute/Remove missing values "
   ]
  },
  {
   "cell_type": "markdown",
   "metadata": {},
   "source": [
    "Take aways from the lecture on missing values:\n",
    "\n",
    "- **Set values as missing values**: Identify values that indicate missing data, for example, treat blank strings, \"NA\", \"XX\", \"999\", etc., as missing.\n",
    "- **Adding is good, exaggerating is bad**: You should try to get information from reliable external sources as much as possible, but if you can’t, then it is better to retain missing values rather than exaggerating the existing rows/columns.\n",
    "- **Delete rows and columns**: Rows can be deleted if the number of missing values is insignificant, as this would not impact the overall analysis results. Columns can be removed if the missing values are quite significant in number.\n",
    "- **Fill partial missing values using business judgement**: Such values include missing time zone, century, etc. These values can be identified easily.\n",
    "\n",
    "Types of missing values:\n",
    "- **MCAR**: It stands for Missing completely at random (the reason behind the missing value is not dependent on any other feature).\n",
    "- **MAR**: It stands for Missing at random (the reason behind the missing value may be associated with some other features).\n",
    "- **MNAR**: It stands for Missing not at random (there is a specific reason behind the missing value).\n"
   ]
  },
  {
   "cell_type": "markdown",
   "metadata": {},
   "source": [
    "#### handling missing values in age column."
   ]
  },
  {
   "cell_type": "code",
   "execution_count": 16,
   "metadata": {},
   "outputs": [
    {
     "data": {
      "text/plain": [
       "age          20\n",
       "salary        0\n",
       "balance       0\n",
       "marital       0\n",
       "targeted      0\n",
       "default       0\n",
       "housing       0\n",
       "loan          0\n",
       "contact       0\n",
       "day           0\n",
       "month        50\n",
       "duration      0\n",
       "campaign      0\n",
       "pdays         0\n",
       "previous      0\n",
       "poutcome      0\n",
       "response     30\n",
       "job           0\n",
       "education     0\n",
       "dtype: int64"
      ]
     },
     "execution_count": 16,
     "metadata": {},
     "output_type": "execute_result"
    }
   ],
   "source": [
    "inp0.isnull().sum()"
   ]
  },
  {
   "cell_type": "code",
   "execution_count": 17,
   "metadata": {},
   "outputs": [
    {
     "data": {
      "text/plain": [
       "20"
      ]
     },
     "execution_count": 17,
     "metadata": {},
     "output_type": "execute_result"
    }
   ],
   "source": [
    "#count the missing values in age column.\n",
    "inp0.age.isnull().sum()"
   ]
  },
  {
   "cell_type": "code",
   "execution_count": 18,
   "metadata": {},
   "outputs": [
    {
     "data": {
      "text/plain": [
       "(45211, 19)"
      ]
     },
     "execution_count": 18,
     "metadata": {},
     "output_type": "execute_result"
    }
   ],
   "source": [
    "#pring the shape of dataframe inp0\n",
    "inp0.shape"
   ]
  },
  {
   "cell_type": "code",
   "execution_count": 19,
   "metadata": {},
   "outputs": [
    {
     "data": {
      "text/plain": [
       "0.04423702196368141"
      ]
     },
     "execution_count": 19,
     "metadata": {},
     "output_type": "execute_result"
    }
   ],
   "source": [
    "#calculate the percentage of missing values in age column.\n",
    "(20*100)/45211"
   ]
  },
  {
   "cell_type": "markdown",
   "metadata": {},
   "source": [
    "Drop the records with age missing. "
   ]
  },
  {
   "cell_type": "code",
   "execution_count": 20,
   "metadata": {},
   "outputs": [
    {
     "data": {
      "text/plain": [
       "(45191, 19)"
      ]
     },
     "execution_count": 20,
     "metadata": {},
     "output_type": "execute_result"
    }
   ],
   "source": [
    "#drop the records with age missing in inp0 and copy in inp1 dataframe.\n",
    "inp1= inp0[~inp0.age.isnull()].copy()\n",
    "inp1.shape"
   ]
  },
  {
   "cell_type": "code",
   "execution_count": 21,
   "metadata": {},
   "outputs": [
    {
     "data": {
      "text/plain": [
       "0"
      ]
     },
     "execution_count": 21,
     "metadata": {},
     "output_type": "execute_result"
    }
   ],
   "source": [
    "inp1.age.isnull().sum()"
   ]
  },
  {
   "cell_type": "markdown",
   "metadata": {},
   "source": [
    "#### handling missing values in month column"
   ]
  },
  {
   "cell_type": "code",
   "execution_count": 22,
   "metadata": {},
   "outputs": [
    {
     "data": {
      "text/plain": [
       "50"
      ]
     },
     "execution_count": 22,
     "metadata": {},
     "output_type": "execute_result"
    }
   ],
   "source": [
    "#count the missing values in month column in inp1.\n",
    "inp1.month.isnull().sum()"
   ]
  },
  {
   "cell_type": "code",
   "execution_count": 23,
   "metadata": {},
   "outputs": [
    {
     "data": {
      "text/plain": [
       "may, 2017    0.304380\n",
       "jul, 2017    0.152522\n",
       "aug, 2017    0.138123\n",
       "jun, 2017    0.118141\n",
       "nov, 2017    0.087880\n",
       "apr, 2017    0.064908\n",
       "feb, 2017    0.058616\n",
       "jan, 2017    0.031058\n",
       "oct, 2017    0.016327\n",
       "sep, 2017    0.012760\n",
       "mar, 2017    0.010545\n",
       "dec, 2017    0.004741\n",
       "Name: month, dtype: float64"
      ]
     },
     "execution_count": 23,
     "metadata": {},
     "output_type": "execute_result"
    }
   ],
   "source": [
    "#print the percentage of each month in the data frame inp1.\n",
    "inp1.month.value_counts(normalize=True)"
   ]
  },
  {
   "cell_type": "code",
   "execution_count": 24,
   "metadata": {},
   "outputs": [
    {
     "data": {
      "text/plain": [
       "0    may, 2017\n",
       "dtype: object"
      ]
     },
     "execution_count": 24,
     "metadata": {},
     "output_type": "execute_result"
    }
   ],
   "source": [
    "#find the mode of month in inp1\n",
    "inp1.month.mode()"
   ]
  },
  {
   "cell_type": "code",
   "execution_count": 25,
   "metadata": {},
   "outputs": [],
   "source": [
    "# fill the missing values with mode value of month in inp1.\n",
    "inp1.month.fillna(inp1.month.mode()[0], inplace=True)"
   ]
  },
  {
   "cell_type": "code",
   "execution_count": 26,
   "metadata": {},
   "outputs": [
    {
     "data": {
      "text/plain": [
       "may, 2017    0.305149\n",
       "jul, 2017    0.152353\n",
       "aug, 2017    0.137970\n",
       "jun, 2017    0.118010\n",
       "nov, 2017    0.087783\n",
       "apr, 2017    0.064836\n",
       "feb, 2017    0.058551\n",
       "jan, 2017    0.031024\n",
       "oct, 2017    0.016309\n",
       "sep, 2017    0.012746\n",
       "mar, 2017    0.010533\n",
       "dec, 2017    0.004735\n",
       "Name: month, dtype: float64"
      ]
     },
     "execution_count": 26,
     "metadata": {},
     "output_type": "execute_result"
    }
   ],
   "source": [
    "#let's see the null values in the month column.\n",
    "inp1.month.value_counts(normalize=True)"
   ]
  },
  {
   "cell_type": "markdown",
   "metadata": {},
   "source": [
    "#### handling missing values in response column "
   ]
  },
  {
   "cell_type": "code",
   "execution_count": 27,
   "metadata": {},
   "outputs": [
    {
     "data": {
      "text/plain": [
       "30"
      ]
     },
     "execution_count": 27,
     "metadata": {},
     "output_type": "execute_result"
    }
   ],
   "source": [
    "#count the missing values in response column in inp1.\n",
    "inp1.response.isnull().sum()"
   ]
  },
  {
   "cell_type": "code",
   "execution_count": 28,
   "metadata": {},
   "outputs": [
    {
     "data": {
      "text/plain": [
       "no     0.882974\n",
       "yes    0.117026\n",
       "Name: response, dtype: float64"
      ]
     },
     "execution_count": 28,
     "metadata": {},
     "output_type": "execute_result"
    }
   ],
   "source": [
    "inp1.response.value_counts(normalize=True)"
   ]
  },
  {
   "cell_type": "code",
   "execution_count": 29,
   "metadata": {},
   "outputs": [
    {
     "data": {
      "text/plain": [
       "0.06638489964816004"
      ]
     },
     "execution_count": 29,
     "metadata": {},
     "output_type": "execute_result"
    }
   ],
   "source": [
    "#calculate the percentage of missing values in response column. \n",
    "(30*100)/45191"
   ]
  },
  {
   "cell_type": "markdown",
   "metadata": {},
   "source": [
    "Target variable is better of not imputed.\n",
    "- Drop the records with missing values."
   ]
  },
  {
   "cell_type": "code",
   "execution_count": 30,
   "metadata": {},
   "outputs": [],
   "source": [
    "#drop the records with response missings in inp1.\n",
    "inp1=inp1[~inp1.response.isnull()==True]"
   ]
  },
  {
   "cell_type": "code",
   "execution_count": 31,
   "metadata": {},
   "outputs": [
    {
     "data": {
      "text/plain": [
       "age          0\n",
       "salary       0\n",
       "balance      0\n",
       "marital      0\n",
       "targeted     0\n",
       "default      0\n",
       "housing      0\n",
       "loan         0\n",
       "contact      0\n",
       "day          0\n",
       "month        0\n",
       "duration     0\n",
       "campaign     0\n",
       "pdays        0\n",
       "previous     0\n",
       "poutcome     0\n",
       "response     0\n",
       "job          0\n",
       "education    0\n",
       "dtype: int64"
      ]
     },
     "execution_count": 31,
     "metadata": {},
     "output_type": "execute_result"
    }
   ],
   "source": [
    "#calculate the missing values in each column of data frame: inp1.\n",
    "inp1.isnull().sum()"
   ]
  },
  {
   "cell_type": "markdown",
   "metadata": {},
   "source": [
    "#### handling pdays column. "
   ]
  },
  {
   "cell_type": "code",
   "execution_count": 32,
   "metadata": {},
   "outputs": [
    {
     "data": {
      "text/plain": [
       "dtype('int64')"
      ]
     },
     "execution_count": 32,
     "metadata": {},
     "output_type": "execute_result"
    }
   ],
   "source": [
    "inp1.pdays.dtype"
   ]
  },
  {
   "cell_type": "code",
   "execution_count": 33,
   "metadata": {},
   "outputs": [
    {
     "data": {
      "text/plain": [
       "count    45161.000000\n",
       "mean        40.182015\n",
       "std        100.079372\n",
       "min         -1.000000\n",
       "25%         -1.000000\n",
       "50%         -1.000000\n",
       "75%         -1.000000\n",
       "max        871.000000\n",
       "Name: pdays, dtype: float64"
      ]
     },
     "execution_count": 33,
     "metadata": {},
     "output_type": "execute_result"
    }
   ],
   "source": [
    "#describe the pdays column of inp1.\n",
    "inp1.pdays.describe()"
   ]
  },
  {
   "cell_type": "markdown",
   "metadata": {},
   "source": [
    "-1 indicates the missing values.\n",
    "Missing value does not always be present as null.\n",
    "How to handle it:\n",
    "\n",
    "Objective is:\n",
    "- you should ignore the missing values in the calculations\n",
    "- simply make it missing - replace -1 with NaN.\n",
    "- all summary statistics- mean, median etc. we will ignore the missing values of pdays."
   ]
  },
  {
   "cell_type": "code",
   "execution_count": 34,
   "metadata": {},
   "outputs": [
    {
     "data": {
      "text/plain": [
       "count    8246.000000\n",
       "mean      224.542202\n",
       "std       115.210792\n",
       "min         1.000000\n",
       "25%       133.000000\n",
       "50%       195.000000\n",
       "75%       327.000000\n",
       "max       871.000000\n",
       "Name: pdays, dtype: float64"
      ]
     },
     "execution_count": 34,
     "metadata": {},
     "output_type": "execute_result"
    }
   ],
   "source": [
    "#describe the pdays column with considering the -1 values.\n",
    "inp1['pdays']=inp1.pdays.apply(lambda x: np.NaN if x < 0 else x)\n",
    "inp1.pdays.describe()"
   ]
  },
  {
   "cell_type": "markdown",
   "metadata": {},
   "source": [
    "#### Takeaway:\n",
    "- For numerical columns we have to consider descriptive summary as well.\n",
    "- Missing value doesn't always have to be null.\n",
    "- Sometimes, it is good to just drop the missing values because they are missing completely at random. \n",
    "- Sometimes, it is good to impute them with another value, maybe mean/median/mode, because they are not missing at random and have to be incorporated for further analysis. "
   ]
  },
  {
   "cell_type": "markdown",
   "metadata": {},
   "source": [
    "### Segment- 5, Handling Outliers "
   ]
  },
  {
   "cell_type": "markdown",
   "metadata": {},
   "source": [
    "Major approaches to the treat outliers:\n",
    " \t\t\n",
    "- **Imputation**\n",
    "- **Deletion of outliers**\n",
    "- **Binning of values**\n",
    "- **Cap the outlier**\n"
   ]
  },
  {
   "cell_type": "markdown",
   "metadata": {},
   "source": [
    "#### Age variable "
   ]
  },
  {
   "cell_type": "code",
   "execution_count": 35,
   "metadata": {},
   "outputs": [
    {
     "data": {
      "text/plain": [
       "count    45161.000000\n",
       "mean        40.935763\n",
       "std         10.618790\n",
       "min         18.000000\n",
       "25%         33.000000\n",
       "50%         39.000000\n",
       "75%         48.000000\n",
       "max         95.000000\n",
       "Name: age, dtype: float64"
      ]
     },
     "execution_count": 35,
     "metadata": {},
     "output_type": "execute_result"
    }
   ],
   "source": [
    "#describe the age variable in inp1.\n",
    "inp1.age.describe()"
   ]
  },
  {
   "cell_type": "code",
   "execution_count": 36,
   "metadata": {},
   "outputs": [
    {
     "data": {
      "image/png": "[encoded data removed]",
      "text/plain": [
       "<Figure size 432x288 with 1 Axes>"
      ]
     },
     "metadata": {
      "needs_background": "light"
     },
     "output_type": "display_data"
    }
   ],
   "source": [
    "#plot the histogram of age variable.\n",
    "plt.hist(inp1.age)\n",
    "plt.show()"
   ]
  },
  {
   "cell_type": "code",
   "execution_count": 37,
   "metadata": {},
   "outputs": [
    {
     "data": {
      "image/png": "[encoded data removed]",
      "text/plain": [
       "<Figure size 432x288 with 1 Axes>"
      ]
     },
     "metadata": {
      "needs_background": "light"
     },
     "output_type": "display_data"
    }
   ],
   "source": [
    "#plot the boxplot of age variable.\n",
    "inp1.age.plot.box()\n",
    "plt.show()"
   ]
  },
  {
   "cell_type": "code",
   "execution_count": 38,
   "metadata": {},
   "outputs": [
    {
     "data": {
      "image/png": "[encoded data removed]",
      "text/plain": [
       "<Figure size 432x288 with 1 Axes>"
      ]
     },
     "metadata": {
      "needs_background": "light"
     },
     "output_type": "display_data"
    }
   ],
   "source": [
    "sns.boxplot(inp1.age)\n",
    "plt.show()"
   ]
  },
  {
   "cell_type": "markdown",
   "metadata": {},
   "source": [
    "#### Salary variable "
   ]
  },
  {
   "cell_type": "code",
   "execution_count": 39,
   "metadata": {},
   "outputs": [
    {
     "data": {
      "text/plain": [
       "count     45161.000000\n",
       "mean      57004.849317\n",
       "std       32087.698810\n",
       "min           0.000000\n",
       "25%       20000.000000\n",
       "50%       60000.000000\n",
       "75%       70000.000000\n",
       "max      120000.000000\n",
       "Name: salary, dtype: float64"
      ]
     },
     "execution_count": 39,
     "metadata": {},
     "output_type": "execute_result"
    }
   ],
   "source": [
    "#describe the salary variable of inp1.\n",
    "inp1.salary.describe()"
   ]
  },
  {
   "cell_type": "code",
   "execution_count": 40,
   "metadata": {},
   "outputs": [
    {
     "data": {
      "image/png": "[encoded data removed]",
      "text/plain": [
       "<Figure size 432x288 with 1 Axes>"
      ]
     },
     "metadata": {
      "needs_background": "light"
     },
     "output_type": "display_data"
    }
   ],
   "source": [
    "#plot the boxplot of salary variable.\n",
    "sns.boxplot(inp1.salary)\n",
    "plt.show()"
   ]
  },
  {
   "cell_type": "markdown",
   "metadata": {},
   "source": [
    "#### Balance variable "
   ]
  },
  {
   "cell_type": "code",
   "execution_count": 41,
   "metadata": {},
   "outputs": [
    {
     "data": {
      "text/plain": [
       "count     45161.000000\n",
       "mean       1362.850690\n",
       "std        3045.939589\n",
       "min       -8019.000000\n",
       "25%          72.000000\n",
       "50%         448.000000\n",
       "75%        1428.000000\n",
       "max      102127.000000\n",
       "Name: balance, dtype: float64"
      ]
     },
     "execution_count": 41,
     "metadata": {},
     "output_type": "execute_result"
    }
   ],
   "source": [
    "#describe the balance variable of inp1.\n",
    "inp1.balance.describe()"
   ]
  },
  {
   "cell_type": "code",
   "execution_count": 42,
   "metadata": {},
   "outputs": [
    {
     "data": {
      "text/plain": [
       "<matplotlib.axes._subplots.AxesSubplot at 0x201f1305f40>"
      ]
     },
     "execution_count": 42,
     "metadata": {},
     "output_type": "execute_result"
    },
    {
     "data": {
      "image/png": "[encoded data removed]",
      "text/plain": [
       "<Figure size 432x288 with 1 Axes>"
      ]
     },
     "metadata": {
      "needs_background": "light"
     },
     "output_type": "display_data"
    }
   ],
   "source": [
    "#plot the boxplot of balance variable.\n",
    "#plt.figure(figsize=[8,2])\n",
    "sns.boxplot(inp1.balance)"
   ]
  },
  {
   "cell_type": "code",
   "execution_count": 43,
   "metadata": {},
   "outputs": [
    {
     "data": {
      "text/plain": [
       "<matplotlib.axes._subplots.AxesSubplot at 0x201f0ccbe50>"
      ]
     },
     "execution_count": 43,
     "metadata": {},
     "output_type": "execute_result"
    },
    {
     "data": {
      "image/png": "[encoded data removed]",
      "text/plain": [
       "<Figure size 576x144 with 1 Axes>"
      ]
     },
     "metadata": {
      "needs_background": "light"
     },
     "output_type": "display_data"
    }
   ],
   "source": [
    "#plot the boxplot of balance variable after scaling in 8:2.\n",
    "plt.figure(figsize=[8,2])\n",
    "sns.boxplot(inp1.balance)"
   ]
  },
  {
   "cell_type": "code",
   "execution_count": 44,
   "metadata": {},
   "outputs": [
    {
     "data": {
      "text/plain": [
       "0.50      448.0\n",
       "0.70     1126.0\n",
       "0.90     3576.0\n",
       "0.95     5769.0\n",
       "0.99    13173.4\n",
       "Name: balance, dtype: float64"
      ]
     },
     "execution_count": 44,
     "metadata": {},
     "output_type": "execute_result"
    }
   ],
   "source": [
    "#print the quantile (0.5, 0.7, 0.9, 0.95 and 0.99) of balance variable\n",
    "# print('50 percentile:',inp1.balance.quantile(0.5))\n",
    "# print('70 percentile:',inp1.balance.quantile(0.7))\n",
    "# print('90 percentile:',inp1.balance.quantile(0.9))\n",
    "# print('95 percentile:',inp1.balance.quantile(0.95))\n",
    "# print('99 percentile:',inp1.balance.quantile(0.99))\n",
    "\n",
    "inp1.balance.quantile([0.5,0.7,0.9,0.95,0.99])"
   ]
  },
  {
   "cell_type": "code",
   "execution_count": 45,
   "metadata": {},
   "outputs": [
    {
     "data": {
      "text/html": [
       "<div>\n",
       "<style scoped>\n",
       "    .dataframe tbody tr th:only-of-type {\n",
       "        vertical-align: middle;\n",
       "    }\n",
       "\n",
       "    .dataframe tbody tr th {\n",
       "        vertical-align: top;\n",
       "    }\n",
       "\n",
       "    .dataframe thead th {\n",
       "        text-align: right;\n",
       "    }\n",
       "</style>\n",
       "<table border=\"1\" class=\"dataframe\">\n",
       "  <thead>\n",
       "    <tr style=\"text-align: right;\">\n",
       "      <th></th>\n",
       "      <th>age</th>\n",
       "      <th>salary</th>\n",
       "      <th>balance</th>\n",
       "      <th>day</th>\n",
       "      <th>campaign</th>\n",
       "      <th>pdays</th>\n",
       "      <th>previous</th>\n",
       "    </tr>\n",
       "  </thead>\n",
       "  <tbody>\n",
       "    <tr>\n",
       "      <th>count</th>\n",
       "      <td>351.000000</td>\n",
       "      <td>351.000000</td>\n",
       "      <td>351.000000</td>\n",
       "      <td>351.000000</td>\n",
       "      <td>351.000000</td>\n",
       "      <td>62.000000</td>\n",
       "      <td>351.000000</td>\n",
       "    </tr>\n",
       "    <tr>\n",
       "      <th>mean</th>\n",
       "      <td>45.341880</td>\n",
       "      <td>70008.547009</td>\n",
       "      <td>24295.780627</td>\n",
       "      <td>16.022792</td>\n",
       "      <td>2.749288</td>\n",
       "      <td>188.516129</td>\n",
       "      <td>0.555556</td>\n",
       "    </tr>\n",
       "    <tr>\n",
       "      <th>std</th>\n",
       "      <td>12.114333</td>\n",
       "      <td>34378.272805</td>\n",
       "      <td>12128.560693</td>\n",
       "      <td>8.101819</td>\n",
       "      <td>3.036886</td>\n",
       "      <td>118.796388</td>\n",
       "      <td>1.784590</td>\n",
       "    </tr>\n",
       "    <tr>\n",
       "      <th>min</th>\n",
       "      <td>23.000000</td>\n",
       "      <td>0.000000</td>\n",
       "      <td>15030.000000</td>\n",
       "      <td>1.000000</td>\n",
       "      <td>1.000000</td>\n",
       "      <td>31.000000</td>\n",
       "      <td>0.000000</td>\n",
       "    </tr>\n",
       "    <tr>\n",
       "      <th>25%</th>\n",
       "      <td>35.000000</td>\n",
       "      <td>50000.000000</td>\n",
       "      <td>17074.000000</td>\n",
       "      <td>9.000000</td>\n",
       "      <td>1.000000</td>\n",
       "      <td>96.250000</td>\n",
       "      <td>0.000000</td>\n",
       "    </tr>\n",
       "    <tr>\n",
       "      <th>50%</th>\n",
       "      <td>44.000000</td>\n",
       "      <td>60000.000000</td>\n",
       "      <td>20723.000000</td>\n",
       "      <td>18.000000</td>\n",
       "      <td>2.000000</td>\n",
       "      <td>167.500000</td>\n",
       "      <td>0.000000</td>\n",
       "    </tr>\n",
       "    <tr>\n",
       "      <th>75%</th>\n",
       "      <td>55.000000</td>\n",
       "      <td>100000.000000</td>\n",
       "      <td>26254.000000</td>\n",
       "      <td>21.000000</td>\n",
       "      <td>3.000000</td>\n",
       "      <td>246.500000</td>\n",
       "      <td>0.000000</td>\n",
       "    </tr>\n",
       "    <tr>\n",
       "      <th>max</th>\n",
       "      <td>84.000000</td>\n",
       "      <td>120000.000000</td>\n",
       "      <td>102127.000000</td>\n",
       "      <td>31.000000</td>\n",
       "      <td>31.000000</td>\n",
       "      <td>589.000000</td>\n",
       "      <td>23.000000</td>\n",
       "    </tr>\n",
       "  </tbody>\n",
       "</table>\n",
       "</div>"
      ],
      "text/plain": [
       "              age         salary        balance         day    campaign  \\\n",
       "count  351.000000     351.000000     351.000000  351.000000  351.000000   \n",
       "mean    45.341880   70008.547009   24295.780627   16.022792    2.749288   \n",
       "std     12.114333   34378.272805   12128.560693    8.101819    3.036886   \n",
       "min     23.000000       0.000000   15030.000000    1.000000    1.000000   \n",
       "25%     35.000000   50000.000000   17074.000000    9.000000    1.000000   \n",
       "50%     44.000000   60000.000000   20723.000000   18.000000    2.000000   \n",
       "75%     55.000000  100000.000000   26254.000000   21.000000    3.000000   \n",
       "max     84.000000  120000.000000  102127.000000   31.000000   31.000000   \n",
       "\n",
       "            pdays    previous  \n",
       "count   62.000000  351.000000  \n",
       "mean   188.516129    0.555556  \n",
       "std    118.796388    1.784590  \n",
       "min     31.000000    0.000000  \n",
       "25%     96.250000    0.000000  \n",
       "50%    167.500000    0.000000  \n",
       "75%    246.500000    0.000000  \n",
       "max    589.000000   23.000000  "
      ]
     },
     "execution_count": 45,
     "metadata": {},
     "output_type": "execute_result"
    }
   ],
   "source": [
    "inp1[inp1.balance>15000].describe()"
   ]
  },
  {
   "cell_type": "markdown",
   "metadata": {},
   "source": [
    "### Segment- 6, Standardising values "
   ]
  },
  {
   "cell_type": "markdown",
   "metadata": {},
   "source": [
    "Checklist for data standardization exercises:\n",
    "- **Standardise units**: Ensure all observations under one variable are expressed in a common and consistent unit, e.g., convert lbs to kg, miles/hr to km/hr, etc.\n",
    "- **Scale values if required**: Make sure all the observations under one variable have a common scale.\n",
    "- **Standardise precision** for better presentation of data, e.g., change 4.5312341 kg to 4.53 kg.\n",
    "- **Remove extra characters** such as common prefixes/suffixes, leading/trailing/multiple spaces, etc. These are irrelevant to analysis.\n",
    "- **Standardise case**: String variables may take various casing styles, e.g., UPPERCASE, lowercase, Title Case, Sentence case, etc.\n",
    "- **Standardise format**: It is important to standardise the format of other elements such as date, name, etce.g., change 23/10/16 to 2016/10/23, “Modi, Narendra” to “Narendra Modi\", etc."
   ]
  },
  {
   "cell_type": "markdown",
   "metadata": {},
   "source": [
    "#### Duration variable"
   ]
  },
  {
   "cell_type": "code",
   "execution_count": 46,
   "metadata": {},
   "outputs": [
    {
     "data": {
      "text/plain": [
       "1.5 min                 138\n",
       "2.06666666666667 min    129\n",
       "1.68333333333333 min    129\n",
       "1.73333333333333 min    127\n",
       "2.03333333333333 min    127\n",
       "                       ... \n",
       "26.2166666666667 min      1\n",
       "810 sec                   1\n",
       "552 sec                   1\n",
       "1994 sec                  1\n",
       "36.4 min                  1\n",
       "Name: duration, Length: 2646, dtype: int64"
      ]
     },
     "execution_count": 46,
     "metadata": {},
     "output_type": "execute_result"
    }
   ],
   "source": [
    "#describe the duration variable of inp1\n",
    "inp1.duration.value_counts()"
   ]
  },
  {
   "cell_type": "code",
   "execution_count": 47,
   "metadata": {},
   "outputs": [
    {
     "data": {
      "text/plain": [
       "0    261 sec\n",
       "1    151 sec\n",
       "2     76 sec\n",
       "3     92 sec\n",
       "4    198 sec\n",
       "Name: duration, dtype: object"
      ]
     },
     "execution_count": 47,
     "metadata": {},
     "output_type": "execute_result"
    }
   ],
   "source": [
    "inp1.duration.head(5)"
   ]
  },
  {
   "cell_type": "code",
   "execution_count": 48,
   "metadata": {},
   "outputs": [],
   "source": [
    "#convert the duration variable into single unit i.e. minutes. and remove the sec or min prefix.\n",
    "inp1['duration']=inp1.duration.apply(lambda x: float(x.split()[0])/60 if x.split()[1]=='sec' else float(x.split()[0]))"
   ]
  },
  {
   "cell_type": "code",
   "execution_count": 49,
   "metadata": {},
   "outputs": [
    {
     "data": {
      "text/plain": [
       "count    45161.000000\n",
       "mean         4.302774\n",
       "std          4.293129\n",
       "min          0.000000\n",
       "25%          1.716667\n",
       "50%          3.000000\n",
       "75%          5.316667\n",
       "max         81.966667\n",
       "Name: duration, dtype: float64"
      ]
     },
     "execution_count": 49,
     "metadata": {},
     "output_type": "execute_result"
    }
   ],
   "source": [
    "#describe the duration variable\n",
    "inp1.duration.describe()"
   ]
  },
  {
   "cell_type": "markdown",
   "metadata": {},
   "source": [
    "## Session- 3, Univariate Analysis "
   ]
  },
  {
   "cell_type": "markdown",
   "metadata": {},
   "source": [
    "### Segment- 2, Categorical unordered univariate analysis "
   ]
  },
  {
   "cell_type": "markdown",
   "metadata": {},
   "source": [
    "Unordered data do not have the notion of high-low, more-less etc. Example:\n",
    "- Type of loan taken by a person = home, personal, auto etc.\n",
    "- Organisation of a person = Sales, marketing, HR etc.\n",
    "- Job category of persone.\n",
    "- Marital status of any one.\n"
   ]
  },
  {
   "cell_type": "code",
   "execution_count": 50,
   "metadata": {},
   "outputs": [
    {
     "data": {
      "text/html": [
       "<div>\n",
       "<style scoped>\n",
       "    .dataframe tbody tr th:only-of-type {\n",
       "        vertical-align: middle;\n",
       "    }\n",
       "\n",
       "    .dataframe tbody tr th {\n",
       "        vertical-align: top;\n",
       "    }\n",
       "\n",
       "    .dataframe thead th {\n",
       "        text-align: right;\n",
       "    }\n",
       "</style>\n",
       "<table border=\"1\" class=\"dataframe\">\n",
       "  <thead>\n",
       "    <tr style=\"text-align: right;\">\n",
       "      <th></th>\n",
       "      <th>age</th>\n",
       "      <th>salary</th>\n",
       "      <th>balance</th>\n",
       "      <th>marital</th>\n",
       "      <th>targeted</th>\n",
       "      <th>default</th>\n",
       "      <th>housing</th>\n",
       "      <th>loan</th>\n",
       "      <th>contact</th>\n",
       "      <th>day</th>\n",
       "      <th>month</th>\n",
       "      <th>duration</th>\n",
       "      <th>campaign</th>\n",
       "      <th>pdays</th>\n",
       "      <th>previous</th>\n",
       "      <th>poutcome</th>\n",
       "      <th>response</th>\n",
       "      <th>job</th>\n",
       "      <th>education</th>\n",
       "    </tr>\n",
       "  </thead>\n",
       "  <tbody>\n",
       "    <tr>\n",
       "      <th>0</th>\n",
       "      <td>58.0</td>\n",
       "      <td>100000</td>\n",
       "      <td>2143</td>\n",
       "      <td>married</td>\n",
       "      <td>yes</td>\n",
       "      <td>no</td>\n",
       "      <td>yes</td>\n",
       "      <td>no</td>\n",
       "      <td>unknown</td>\n",
       "      <td>5</td>\n",
       "      <td>may, 2017</td>\n",
       "      <td>4.350000</td>\n",
       "      <td>1</td>\n",
       "      <td>NaN</td>\n",
       "      <td>0</td>\n",
       "      <td>unknown</td>\n",
       "      <td>no</td>\n",
       "      <td>management</td>\n",
       "      <td>tertiary</td>\n",
       "    </tr>\n",
       "    <tr>\n",
       "      <th>1</th>\n",
       "      <td>44.0</td>\n",
       "      <td>60000</td>\n",
       "      <td>29</td>\n",
       "      <td>single</td>\n",
       "      <td>yes</td>\n",
       "      <td>no</td>\n",
       "      <td>yes</td>\n",
       "      <td>no</td>\n",
       "      <td>unknown</td>\n",
       "      <td>5</td>\n",
       "      <td>may, 2017</td>\n",
       "      <td>2.516667</td>\n",
       "      <td>1</td>\n",
       "      <td>NaN</td>\n",
       "      <td>0</td>\n",
       "      <td>unknown</td>\n",
       "      <td>no</td>\n",
       "      <td>technician</td>\n",
       "      <td>secondary</td>\n",
       "    </tr>\n",
       "    <tr>\n",
       "      <th>2</th>\n",
       "      <td>33.0</td>\n",
       "      <td>120000</td>\n",
       "      <td>2</td>\n",
       "      <td>married</td>\n",
       "      <td>yes</td>\n",
       "      <td>no</td>\n",
       "      <td>yes</td>\n",
       "      <td>yes</td>\n",
       "      <td>unknown</td>\n",
       "      <td>5</td>\n",
       "      <td>may, 2017</td>\n",
       "      <td>1.266667</td>\n",
       "      <td>1</td>\n",
       "      <td>NaN</td>\n",
       "      <td>0</td>\n",
       "      <td>unknown</td>\n",
       "      <td>no</td>\n",
       "      <td>entrepreneur</td>\n",
       "      <td>secondary</td>\n",
       "    </tr>\n",
       "    <tr>\n",
       "      <th>3</th>\n",
       "      <td>47.0</td>\n",
       "      <td>20000</td>\n",
       "      <td>1506</td>\n",
       "      <td>married</td>\n",
       "      <td>no</td>\n",
       "      <td>no</td>\n",
       "      <td>yes</td>\n",
       "      <td>no</td>\n",
       "      <td>unknown</td>\n",
       "      <td>5</td>\n",
       "      <td>may, 2017</td>\n",
       "      <td>1.533333</td>\n",
       "      <td>1</td>\n",
       "      <td>NaN</td>\n",
       "      <td>0</td>\n",
       "      <td>unknown</td>\n",
       "      <td>no</td>\n",
       "      <td>blue-collar</td>\n",
       "      <td>unknown</td>\n",
       "    </tr>\n",
       "    <tr>\n",
       "      <th>4</th>\n",
       "      <td>33.0</td>\n",
       "      <td>0</td>\n",
       "      <td>1</td>\n",
       "      <td>single</td>\n",
       "      <td>no</td>\n",
       "      <td>no</td>\n",
       "      <td>no</td>\n",
       "      <td>no</td>\n",
       "      <td>unknown</td>\n",
       "      <td>5</td>\n",
       "      <td>may, 2017</td>\n",
       "      <td>3.300000</td>\n",
       "      <td>1</td>\n",
       "      <td>NaN</td>\n",
       "      <td>0</td>\n",
       "      <td>unknown</td>\n",
       "      <td>no</td>\n",
       "      <td>unknown</td>\n",
       "      <td>unknown</td>\n",
       "    </tr>\n",
       "  </tbody>\n",
       "</table>\n",
       "</div>"
      ],
      "text/plain": [
       "    age  salary  balance  marital targeted default housing loan  contact  day  \\\n",
       "0  58.0  100000     2143  married      yes      no     yes   no  unknown    5   \n",
       "1  44.0   60000       29   single      yes      no     yes   no  unknown    5   \n",
       "2  33.0  120000        2  married      yes      no     yes  yes  unknown    5   \n",
       "3  47.0   20000     1506  married       no      no     yes   no  unknown    5   \n",
       "4  33.0       0        1   single       no      no      no   no  unknown    5   \n",
       "\n",
       "       month  duration  campaign  pdays  previous poutcome response  \\\n",
       "0  may, 2017  4.350000         1    NaN         0  unknown       no   \n",
       "1  may, 2017  2.516667         1    NaN         0  unknown       no   \n",
       "2  may, 2017  1.266667         1    NaN         0  unknown       no   \n",
       "3  may, 2017  1.533333         1    NaN         0  unknown       no   \n",
       "4  may, 2017  3.300000         1    NaN         0  unknown       no   \n",
       "\n",
       "            job  education  \n",
       "0    management   tertiary  \n",
       "1    technician  secondary  \n",
       "2  entrepreneur  secondary  \n",
       "3   blue-collar    unknown  \n",
       "4       unknown    unknown  "
      ]
     },
     "execution_count": 50,
     "metadata": {},
     "output_type": "execute_result"
    }
   ],
   "source": [
    "inp1.head()"
   ]
  },
  {
   "cell_type": "markdown",
   "metadata": {},
   "source": [
    "#### Marital status "
   ]
  },
  {
   "cell_type": "code",
   "execution_count": 51,
   "metadata": {},
   "outputs": [
    {
     "data": {
      "text/plain": [
       "married     0.601957\n",
       "single      0.282943\n",
       "divorced    0.115099\n",
       "Name: marital, dtype: float64"
      ]
     },
     "execution_count": 51,
     "metadata": {},
     "output_type": "execute_result"
    }
   ],
   "source": [
    "#calculate the percentage of each marital status category. \n",
    "inp1.marital.value_counts(normalize=True)"
   ]
  },
  {
   "cell_type": "code",
   "execution_count": 52,
   "metadata": {},
   "outputs": [
    {
     "data": {
      "image/png": "[encoded data removed]",
      "text/plain": [
       "<Figure size 432x288 with 1 Axes>"
      ]
     },
     "metadata": {
      "needs_background": "light"
     },
     "output_type": "display_data"
    }
   ],
   "source": [
    "#plot the bar graph of percentage marital status categories\n",
    "inp1.marital.value_counts(normalize=True).plot.barh()\n",
    "plt.show()"
   ]
  },
  {
   "cell_type": "markdown",
   "metadata": {},
   "source": [
    "#### Job  "
   ]
  },
  {
   "cell_type": "code",
   "execution_count": 53,
   "metadata": {},
   "outputs": [
    {
     "data": {
      "text/plain": [
       "blue-collar      0.215274\n",
       "management       0.209273\n",
       "technician       0.168043\n",
       "admin.           0.114369\n",
       "services         0.091849\n",
       "retired          0.050087\n",
       "self-employed    0.034853\n",
       "entrepreneur     0.032860\n",
       "unemployed       0.028830\n",
       "housemaid        0.027413\n",
       "student          0.020770\n",
       "unknown          0.006377\n",
       "Name: job, dtype: float64"
      ]
     },
     "execution_count": 53,
     "metadata": {},
     "output_type": "execute_result"
    }
   ],
   "source": [
    "#calculate the percentage of each job status category.\n",
    "inp1.job.value_counts(normalize=True)"
   ]
  },
  {
   "cell_type": "code",
   "execution_count": 54,
   "metadata": {},
   "outputs": [
    {
     "data": {
      "image/png": "[encoded data removed]",
      "text/plain": [
       "<Figure size 432x288 with 1 Axes>"
      ]
     },
     "metadata": {
      "needs_background": "light"
     },
     "output_type": "display_data"
    }
   ],
   "source": [
    "#plot the bar graph of percentage job categories\n",
    "inp1.job.value_counts(normalize=True).plot.barh()\n",
    "plt.show()"
   ]
  },
  {
   "cell_type": "markdown",
   "metadata": {},
   "source": [
    "### Segment- 3, Categorical ordered univariate analysis "
   ]
  },
  {
   "cell_type": "markdown",
   "metadata": {},
   "source": [
    "Ordered variables have some kind of ordering. Some examples of bank marketing dataset are:\n",
    "- Age group= <30, 30-40, 40-50 and so on.\n",
    "- Month = Jan-Feb-Mar etc.\n",
    "- Education = primary, secondary and so on."
   ]
  },
  {
   "cell_type": "markdown",
   "metadata": {},
   "source": [
    "#### Month"
   ]
  },
  {
   "cell_type": "code",
   "execution_count": 55,
   "metadata": {},
   "outputs": [
    {
     "data": {
      "text/html": [
       "<div>\n",
       "<style scoped>\n",
       "    .dataframe tbody tr th:only-of-type {\n",
       "        vertical-align: middle;\n",
       "    }\n",
       "\n",
       "    .dataframe tbody tr th {\n",
       "        vertical-align: top;\n",
       "    }\n",
       "\n",
       "    .dataframe thead th {\n",
       "        text-align: right;\n",
       "    }\n",
       "</style>\n",
       "<table border=\"1\" class=\"dataframe\">\n",
       "  <thead>\n",
       "    <tr style=\"text-align: right;\">\n",
       "      <th></th>\n",
       "      <th>age</th>\n",
       "      <th>salary</th>\n",
       "      <th>balance</th>\n",
       "      <th>marital</th>\n",
       "      <th>targeted</th>\n",
       "      <th>default</th>\n",
       "      <th>housing</th>\n",
       "      <th>loan</th>\n",
       "      <th>contact</th>\n",
       "      <th>day</th>\n",
       "      <th>month</th>\n",
       "      <th>duration</th>\n",
       "      <th>campaign</th>\n",
       "      <th>pdays</th>\n",
       "      <th>previous</th>\n",
       "      <th>poutcome</th>\n",
       "      <th>response</th>\n",
       "      <th>job</th>\n",
       "      <th>education</th>\n",
       "    </tr>\n",
       "  </thead>\n",
       "  <tbody>\n",
       "    <tr>\n",
       "      <th>0</th>\n",
       "      <td>58.0</td>\n",
       "      <td>100000</td>\n",
       "      <td>2143</td>\n",
       "      <td>married</td>\n",
       "      <td>yes</td>\n",
       "      <td>no</td>\n",
       "      <td>yes</td>\n",
       "      <td>no</td>\n",
       "      <td>unknown</td>\n",
       "      <td>5</td>\n",
       "      <td>may</td>\n",
       "      <td>4.350000</td>\n",
       "      <td>1</td>\n",
       "      <td>NaN</td>\n",
       "      <td>0</td>\n",
       "      <td>unknown</td>\n",
       "      <td>no</td>\n",
       "      <td>management</td>\n",
       "      <td>tertiary</td>\n",
       "    </tr>\n",
       "    <tr>\n",
       "      <th>1</th>\n",
       "      <td>44.0</td>\n",
       "      <td>60000</td>\n",
       "      <td>29</td>\n",
       "      <td>single</td>\n",
       "      <td>yes</td>\n",
       "      <td>no</td>\n",
       "      <td>yes</td>\n",
       "      <td>no</td>\n",
       "      <td>unknown</td>\n",
       "      <td>5</td>\n",
       "      <td>may</td>\n",
       "      <td>2.516667</td>\n",
       "      <td>1</td>\n",
       "      <td>NaN</td>\n",
       "      <td>0</td>\n",
       "      <td>unknown</td>\n",
       "      <td>no</td>\n",
       "      <td>technician</td>\n",
       "      <td>secondary</td>\n",
       "    </tr>\n",
       "    <tr>\n",
       "      <th>2</th>\n",
       "      <td>33.0</td>\n",
       "      <td>120000</td>\n",
       "      <td>2</td>\n",
       "      <td>married</td>\n",
       "      <td>yes</td>\n",
       "      <td>no</td>\n",
       "      <td>yes</td>\n",
       "      <td>yes</td>\n",
       "      <td>unknown</td>\n",
       "      <td>5</td>\n",
       "      <td>may</td>\n",
       "      <td>1.266667</td>\n",
       "      <td>1</td>\n",
       "      <td>NaN</td>\n",
       "      <td>0</td>\n",
       "      <td>unknown</td>\n",
       "      <td>no</td>\n",
       "      <td>entrepreneur</td>\n",
       "      <td>secondary</td>\n",
       "    </tr>\n",
       "    <tr>\n",
       "      <th>3</th>\n",
       "      <td>47.0</td>\n",
       "      <td>20000</td>\n",
       "      <td>1506</td>\n",
       "      <td>married</td>\n",
       "      <td>no</td>\n",
       "      <td>no</td>\n",
       "      <td>yes</td>\n",
       "      <td>no</td>\n",
       "      <td>unknown</td>\n",
       "      <td>5</td>\n",
       "      <td>may</td>\n",
       "      <td>1.533333</td>\n",
       "      <td>1</td>\n",
       "      <td>NaN</td>\n",
       "      <td>0</td>\n",
       "      <td>unknown</td>\n",
       "      <td>no</td>\n",
       "      <td>blue-collar</td>\n",
       "      <td>unknown</td>\n",
       "    </tr>\n",
       "    <tr>\n",
       "      <th>4</th>\n",
       "      <td>33.0</td>\n",
       "      <td>0</td>\n",
       "      <td>1</td>\n",
       "      <td>single</td>\n",
       "      <td>no</td>\n",
       "      <td>no</td>\n",
       "      <td>no</td>\n",
       "      <td>no</td>\n",
       "      <td>unknown</td>\n",
       "      <td>5</td>\n",
       "      <td>may</td>\n",
       "      <td>3.300000</td>\n",
       "      <td>1</td>\n",
       "      <td>NaN</td>\n",
       "      <td>0</td>\n",
       "      <td>unknown</td>\n",
       "      <td>no</td>\n",
       "      <td>unknown</td>\n",
       "      <td>unknown</td>\n",
       "    </tr>\n",
       "  </tbody>\n",
       "</table>\n",
       "</div>"
      ],
      "text/plain": [
       "    age  salary  balance  marital targeted default housing loan  contact  day  \\\n",
       "0  58.0  100000     2143  married      yes      no     yes   no  unknown    5   \n",
       "1  44.0   60000       29   single      yes      no     yes   no  unknown    5   \n",
       "2  33.0  120000        2  married      yes      no     yes  yes  unknown    5   \n",
       "3  47.0   20000     1506  married       no      no     yes   no  unknown    5   \n",
       "4  33.0       0        1   single       no      no      no   no  unknown    5   \n",
       "\n",
       "  month  duration  campaign  pdays  previous poutcome response           job  \\\n",
       "0   may  4.350000         1    NaN         0  unknown       no    management   \n",
       "1   may  2.516667         1    NaN         0  unknown       no    technician   \n",
       "2   may  1.266667         1    NaN         0  unknown       no  entrepreneur   \n",
       "3   may  1.533333         1    NaN         0  unknown       no   blue-collar   \n",
       "4   may  3.300000         1    NaN         0  unknown       no       unknown   \n",
       "\n",
       "   education  \n",
       "0   tertiary  \n",
       "1  secondary  \n",
       "2  secondary  \n",
       "3    unknown  \n",
       "4    unknown  "
      ]
     },
     "execution_count": 55,
     "metadata": {},
     "output_type": "execute_result"
    }
   ],
   "source": [
    "inp1['month']=inp0.month.apply(lambda x:str(x).split(',')[0])\n",
    "inp1.head()"
   ]
  },
  {
   "cell_type": "markdown",
   "metadata": {},
   "source": [
    "#### Education"
   ]
  },
  {
   "cell_type": "code",
   "execution_count": 56,
   "metadata": {},
   "outputs": [
    {
     "data": {
      "text/plain": [
       "secondary    0.513275\n",
       "tertiary     0.294192\n",
       "primary      0.151436\n",
       "unknown      0.041097\n",
       "Name: education, dtype: float64"
      ]
     },
     "execution_count": 56,
     "metadata": {},
     "output_type": "execute_result"
    }
   ],
   "source": [
    "#calculate the percentage of each education category.\n",
    "inp1.education.value_counts(normalize=True)"
   ]
  },
  {
   "cell_type": "code",
   "execution_count": 57,
   "metadata": {},
   "outputs": [
    {
     "data": {
      "image/png": "[encoded data removed]",
      "text/plain": [
       "<Figure size 360x360 with 1 Axes>"
      ]
     },
     "metadata": {},
     "output_type": "display_data"
    }
   ],
   "source": [
    "#plot the pie chart of education categories\n",
    "plt.figure(figsize=[5,5])\n",
    "inp1.education.value_counts(normalize=True).plot.pie()\n",
    "plt.show()"
   ]
  },
  {
   "cell_type": "markdown",
   "metadata": {},
   "source": [
    "#### poutcome "
   ]
  },
  {
   "cell_type": "code",
   "execution_count": 58,
   "metadata": {},
   "outputs": [
    {
     "data": {
      "text/plain": [
       "unknown    0.817520\n",
       "failure    0.108368\n",
       "other      0.040721\n",
       "success    0.033392\n",
       "Name: poutcome, dtype: float64"
      ]
     },
     "execution_count": 58,
     "metadata": {},
     "output_type": "execute_result"
    }
   ],
   "source": [
    "#calculate the percentage of each poutcome category.\n",
    "inp1.poutcome.value_counts(normalize=True)"
   ]
  },
  {
   "cell_type": "code",
   "execution_count": 59,
   "metadata": {},
   "outputs": [
    {
     "data": {
      "image/png": "[encoded data removed]",
      "text/plain": [
       "<Figure size 360x360 with 1 Axes>"
      ]
     },
     "metadata": {
      "needs_background": "light"
     },
     "output_type": "display_data"
    }
   ],
   "source": [
    "plt.figure(figsize=[5,5])\n",
    "inp1[inp1.poutcome!='unknown'].poutcome.value_counts(normalize=True).plot.bar()\n",
    "plt.show()"
   ]
  },
  {
   "cell_type": "code",
   "execution_count": 60,
   "metadata": {},
   "outputs": [
    {
     "data": {
      "image/png": "[encoded data removed]",
      "text/plain": [
       "<Figure size 360x360 with 1 Axes>"
      ]
     },
     "metadata": {},
     "output_type": "display_data"
    }
   ],
   "source": [
    "plt.figure(figsize=[5,5])\n",
    "inp1[inp1.poutcome!='unknown'].poutcome.value_counts(normalize=True).plot.pie()\n",
    "plt.show()"
   ]
  },
  {
   "cell_type": "markdown",
   "metadata": {},
   "source": [
    "#### Response the target variable "
   ]
  },
  {
   "cell_type": "code",
   "execution_count": 61,
   "metadata": {},
   "outputs": [
    {
     "data": {
      "text/plain": [
       "no     0.882974\n",
       "yes    0.117026\n",
       "Name: response, dtype: float64"
      ]
     },
     "execution_count": 61,
     "metadata": {},
     "output_type": "execute_result"
    }
   ],
   "source": [
    "#calculate the percentage of each response category.\n",
    "inp1.response.value_counts(normalize=True)"
   ]
  },
  {
   "cell_type": "code",
   "execution_count": 62,
   "metadata": {},
   "outputs": [
    {
     "data": {
      "image/png": "[encoded data removed]",
      "text/plain": [
       "<Figure size 432x288 with 1 Axes>"
      ]
     },
     "metadata": {},
     "output_type": "display_data"
    }
   ],
   "source": [
    "#plot the pie chart of response categories\n",
    "inp1.response.value_counts(normalize=True).plot.pie()\n",
    "plt.show()"
   ]
  },
  {
   "cell_type": "markdown",
   "metadata": {},
   "source": [
    "## Session- 4, Bivariate and Multivariate Analysis"
   ]
  },
  {
   "cell_type": "markdown",
   "metadata": {},
   "source": [
    "### Segment-2, Numeric- numeric analysis "
   ]
  },
  {
   "cell_type": "markdown",
   "metadata": {},
   "source": [
    "There are three ways to analyse the numeric- numeric data types simultaneously.\n",
    "- **Scatter plot**: describes the pattern that how one variable is varying with other variable.\n",
    "- **Correlation matrix**: to describe the linearity of two numeric variables.\n",
    "- **Pair plot**: group of scatter plots of all numeric variables in the data frame."
   ]
  },
  {
   "cell_type": "code",
   "execution_count": 63,
   "metadata": {},
   "outputs": [
    {
     "data": {
      "image/png": "[encoded data removed]",
      "text/plain": [
       "<Figure size 432x288 with 1 Axes>"
      ]
     },
     "metadata": {
      "needs_background": "light"
     },
     "output_type": "display_data"
    }
   ],
   "source": [
    "#plot the scatter plot of balance and salary variable in inp1\n",
    "inp1.plot.scatter(x='salary',y='balance')\n",
    "plt.show()"
   ]
  },
  {
   "cell_type": "code",
   "execution_count": 64,
   "metadata": {},
   "outputs": [
    {
     "data": {
      "image/png": "[encoded data removed]",
      "text/plain": [
       "<Figure size 432x288 with 1 Axes>"
      ]
     },
     "metadata": {
      "needs_background": "light"
     },
     "output_type": "display_data"
    }
   ],
   "source": [
    "#plot the scatter plot of balance and age variable in inp1\n",
    "inp1.plot.scatter(x='age',y='balance')\n",
    "plt.show()"
   ]
  },
  {
   "cell_type": "code",
   "execution_count": 65,
   "metadata": {},
   "outputs": [
    {
     "data": {
      "image/png": "[encoded data removed]",
      "text/plain": [
       "<Figure size 540x540 with 12 Axes>"
      ]
     },
     "metadata": {
      "needs_background": "light"
     },
     "output_type": "display_data"
    }
   ],
   "source": [
    "#plot the pair plot of salary, balance and age in inp1 dataframe.\n",
    "sns.pairplot(data=inp1,vars=['salary', 'balance', 'age'])\n",
    "plt.show()"
   ]
  },
  {
   "cell_type": "markdown",
   "metadata": {},
   "source": [
    "#### Correlation heat map "
   ]
  },
  {
   "cell_type": "code",
   "execution_count": 66,
   "metadata": {},
   "outputs": [
    {
     "data": {
      "text/html": [
       "<div>\n",
       "<style scoped>\n",
       "    .dataframe tbody tr th:only-of-type {\n",
       "        vertical-align: middle;\n",
       "    }\n",
       "\n",
       "    .dataframe tbody tr th {\n",
       "        vertical-align: top;\n",
       "    }\n",
       "\n",
       "    .dataframe thead th {\n",
       "        text-align: right;\n",
       "    }\n",
       "</style>\n",
       "<table border=\"1\" class=\"dataframe\">\n",
       "  <thead>\n",
       "    <tr style=\"text-align: right;\">\n",
       "      <th></th>\n",
       "      <th>salary</th>\n",
       "      <th>balance</th>\n",
       "      <th>age</th>\n",
       "    </tr>\n",
       "  </thead>\n",
       "  <tbody>\n",
       "    <tr>\n",
       "      <th>salary</th>\n",
       "      <td>1.000000</td>\n",
       "      <td>0.055489</td>\n",
       "      <td>0.024513</td>\n",
       "    </tr>\n",
       "    <tr>\n",
       "      <th>balance</th>\n",
       "      <td>0.055489</td>\n",
       "      <td>1.000000</td>\n",
       "      <td>0.097710</td>\n",
       "    </tr>\n",
       "    <tr>\n",
       "      <th>age</th>\n",
       "      <td>0.024513</td>\n",
       "      <td>0.097710</td>\n",
       "      <td>1.000000</td>\n",
       "    </tr>\n",
       "  </tbody>\n",
       "</table>\n",
       "</div>"
      ],
      "text/plain": [
       "           salary   balance       age\n",
       "salary   1.000000  0.055489  0.024513\n",
       "balance  0.055489  1.000000  0.097710\n",
       "age      0.024513  0.097710  1.000000"
      ]
     },
     "execution_count": 66,
     "metadata": {},
     "output_type": "execute_result"
    }
   ],
   "source": [
    "#correlation.\n",
    "inp1[['salary', 'balance', 'age']].corr()"
   ]
  },
  {
   "cell_type": "code",
   "execution_count": 67,
   "metadata": {},
   "outputs": [
    {
     "data": {
      "image/png": "[encoded data removed]",
      "text/plain": [
       "<Figure size 432x288 with 2 Axes>"
      ]
     },
     "metadata": {
      "needs_background": "light"
     },
     "output_type": "display_data"
    }
   ],
   "source": [
    "#plot the correlation matrix of salary, balance and age in inp1 dataframe.\n",
    "sns.heatmap(inp1[['salary', 'balance', 'age']].corr(), annot=True, cmap='Greens')\n",
    "plt.show()"
   ]
  },
  {
   "cell_type": "markdown",
   "metadata": {},
   "source": [
    "### Segment- 4, Numerical categorical variable"
   ]
  },
  {
   "cell_type": "markdown",
   "metadata": {},
   "source": [
    "#### Salary vs response "
   ]
  },
  {
   "cell_type": "code",
   "execution_count": 68,
   "metadata": {},
   "outputs": [
    {
     "data": {
      "text/plain": [
       "response\n",
       "no     56769.510482\n",
       "yes    58780.510880\n",
       "Name: salary, dtype: float64"
      ]
     },
     "execution_count": 68,
     "metadata": {},
     "output_type": "execute_result"
    }
   ],
   "source": [
    "#groupby the response to find the mean of the salary with response no & yes seperatly.\n",
    "inp1.groupby(by='response')['salary'].mean()"
   ]
  },
  {
   "cell_type": "code",
   "execution_count": 69,
   "metadata": {},
   "outputs": [
    {
     "data": {
      "text/plain": [
       "response\n",
       "no     60000\n",
       "yes    60000\n",
       "Name: salary, dtype: int64"
      ]
     },
     "execution_count": 69,
     "metadata": {},
     "output_type": "execute_result"
    }
   ],
   "source": [
    "#groupby the response to find the median of the salary with response no & yes seperatly.\n",
    "inp1.groupby(by='response')['salary'].median()"
   ]
  },
  {
   "cell_type": "code",
   "execution_count": 70,
   "metadata": {},
   "outputs": [
    {
     "data": {
      "text/plain": [
       "<matplotlib.axes._subplots.AxesSubplot at 0x201f1b61340>"
      ]
     },
     "execution_count": 70,
     "metadata": {},
     "output_type": "execute_result"
    },
    {
     "data": {
      "image/png": "[encoded data removed]",
      "text/plain": [
       "<Figure size 432x288 with 1 Axes>"
      ]
     },
     "metadata": {
      "needs_background": "light"
     },
     "output_type": "display_data"
    }
   ],
   "source": [
    "#plot the box plot of salary for yes & no responses.\n",
    "sns.boxplot(data=inp1, x='response', y='salary')"
   ]
  },
  {
   "cell_type": "markdown",
   "metadata": {},
   "source": [
    "#### Balance vs response "
   ]
  },
  {
   "cell_type": "code",
   "execution_count": 71,
   "metadata": {},
   "outputs": [
    {
     "data": {
      "text/plain": [
       "<matplotlib.axes._subplots.AxesSubplot at 0x201f3546430>"
      ]
     },
     "execution_count": 71,
     "metadata": {},
     "output_type": "execute_result"
    },
    {
     "data": {
      "image/png": "[encoded data removed]",
      "text/plain": [
       "<Figure size 576x576 with 1 Axes>"
      ]
     },
     "metadata": {
      "needs_background": "light"
     },
     "output_type": "display_data"
    }
   ],
   "source": [
    "#plot the box plot of balance for yes & no responses.\n",
    "plt.figure(figsize=[8,8])\n",
    "sns.boxplot(data=inp1, x='response', y='balance')"
   ]
  },
  {
   "cell_type": "code",
   "execution_count": 72,
   "metadata": {},
   "outputs": [
    {
     "data": {
      "text/plain": [
       "response\n",
       "no     1304.292281\n",
       "yes    1804.681362\n",
       "Name: balance, dtype: float64"
      ]
     },
     "execution_count": 72,
     "metadata": {},
     "output_type": "execute_result"
    }
   ],
   "source": [
    "#groupby the response to find the mean of the balance with response no & yes seperatly.\n",
    "inp1.groupby(by='response')['balance'].mean()"
   ]
  },
  {
   "cell_type": "code",
   "execution_count": 73,
   "metadata": {},
   "outputs": [
    {
     "data": {
      "text/plain": [
       "response\n",
       "no     417\n",
       "yes    733\n",
       "Name: balance, dtype: int64"
      ]
     },
     "execution_count": 73,
     "metadata": {},
     "output_type": "execute_result"
    }
   ],
   "source": [
    "#groupby the response to find the median of the balance with response no & yes seperatly.\n",
    "inp1.groupby(by='response')['balance'].median()"
   ]
  },
  {
   "cell_type": "markdown",
   "metadata": {},
   "source": [
    "##### 75th percentile "
   ]
  },
  {
   "cell_type": "code",
   "execution_count": 74,
   "metadata": {},
   "outputs": [],
   "source": [
    "#function to find the 75th percentile.\n",
    "def p75(x):\n",
    "    return np.quantile(x, 0.75)"
   ]
  },
  {
   "cell_type": "code",
   "execution_count": 75,
   "metadata": {},
   "outputs": [
    {
     "data": {
      "text/html": [
       "<div>\n",
       "<style scoped>\n",
       "    .dataframe tbody tr th:only-of-type {\n",
       "        vertical-align: middle;\n",
       "    }\n",
       "\n",
       "    .dataframe tbody tr th {\n",
       "        vertical-align: top;\n",
       "    }\n",
       "\n",
       "    .dataframe thead th {\n",
       "        text-align: right;\n",
       "    }\n",
       "</style>\n",
       "<table border=\"1\" class=\"dataframe\">\n",
       "  <thead>\n",
       "    <tr style=\"text-align: right;\">\n",
       "      <th></th>\n",
       "      <th>mean</th>\n",
       "      <th>median</th>\n",
       "      <th>p75</th>\n",
       "    </tr>\n",
       "    <tr>\n",
       "      <th>response</th>\n",
       "      <th></th>\n",
       "      <th></th>\n",
       "      <th></th>\n",
       "    </tr>\n",
       "  </thead>\n",
       "  <tbody>\n",
       "    <tr>\n",
       "      <th>no</th>\n",
       "      <td>1304.292281</td>\n",
       "      <td>417</td>\n",
       "      <td>1345</td>\n",
       "    </tr>\n",
       "    <tr>\n",
       "      <th>yes</th>\n",
       "      <td>1804.681362</td>\n",
       "      <td>733</td>\n",
       "      <td>2159</td>\n",
       "    </tr>\n",
       "  </tbody>\n",
       "</table>\n",
       "</div>"
      ],
      "text/plain": [
       "                 mean  median   p75\n",
       "response                           \n",
       "no        1304.292281     417  1345\n",
       "yes       1804.681362     733  2159"
      ]
     },
     "execution_count": 75,
     "metadata": {},
     "output_type": "execute_result"
    }
   ],
   "source": [
    "#calculate the mean, median and 75th percentile of balance with response\n",
    "inp1.groupby(by='response')['balance'].aggregate(['mean','median',p75])"
   ]
  },
  {
   "cell_type": "code",
   "execution_count": 76,
   "metadata": {},
   "outputs": [
    {
     "data": {
      "image/png": "[encoded data removed]",
      "text/plain": [
       "<Figure size 432x288 with 1 Axes>"
      ]
     },
     "metadata": {
      "needs_background": "light"
     },
     "output_type": "display_data"
    }
   ],
   "source": [
    "#plot the bar graph of balance's mean an median with response.\n",
    "inp1.groupby(by='response')['balance'].aggregate(['mean','median',p75]).plot.bar()\n",
    "plt.show()"
   ]
  },
  {
   "cell_type": "markdown",
   "metadata": {},
   "source": [
    "#### Education vs salary "
   ]
  },
  {
   "cell_type": "code",
   "execution_count": 77,
   "metadata": {},
   "outputs": [
    {
     "data": {
      "text/plain": [
       "education\n",
       "primary      34232.343910\n",
       "secondary    49731.449525\n",
       "tertiary     82880.249887\n",
       "unknown      46529.633621\n",
       "Name: salary, dtype: float64"
      ]
     },
     "execution_count": 77,
     "metadata": {},
     "output_type": "execute_result"
    }
   ],
   "source": [
    "#groupby the education to find the mean of the salary education category.\n",
    "inp1.groupby(by='education')['salary'].mean()"
   ]
  },
  {
   "cell_type": "code",
   "execution_count": 78,
   "metadata": {},
   "outputs": [
    {
     "data": {
      "text/plain": [
       "education\n",
       "primary       20000\n",
       "secondary     55000\n",
       "tertiary     100000\n",
       "unknown       50000\n",
       "Name: salary, dtype: int64"
      ]
     },
     "execution_count": 78,
     "metadata": {},
     "output_type": "execute_result"
    }
   ],
   "source": [
    "#groupby the education to find the median of the salary for each education category.\n",
    "inp1.groupby(by='education')['salary'].median()"
   ]
  },
  {
   "cell_type": "markdown",
   "metadata": {},
   "source": [
    "#### Job vs salary"
   ]
  },
  {
   "cell_type": "code",
   "execution_count": 79,
   "metadata": {},
   "outputs": [
    {
     "data": {
      "text/plain": [
       "job\n",
       "admin.            50000\n",
       "blue-collar       20000\n",
       "entrepreneur     120000\n",
       "housemaid         16000\n",
       "management       100000\n",
       "retired           55000\n",
       "self-employed     60000\n",
       "services          70000\n",
       "student            4000\n",
       "technician        60000\n",
       "unemployed         8000\n",
       "unknown               0\n",
       "Name: salary, dtype: int64"
      ]
     },
     "execution_count": 79,
     "metadata": {},
     "output_type": "execute_result"
    }
   ],
   "source": [
    "#groupby the job to find the mean of the salary for each job category.\n",
    "inp1.groupby(by='job')['salary'].median()"
   ]
  },
  {
   "cell_type": "markdown",
   "metadata": {},
   "source": [
    "### Segment- 5, Categorical categorical variable "
   ]
  },
  {
   "cell_type": "code",
   "execution_count": 83,
   "metadata": {},
   "outputs": [],
   "source": [
    "#create response_flag of numerical data type where response \"yes\"= 1, \"no\"= 0"
   ]
  },
  {
   "cell_type": "markdown",
   "metadata": {},
   "source": [
    "There are 2 ways to do that:\n",
    "\n",
    "First way:\n",
    "\n",
    "inp1['response_flag]=inp1.response.apply(lambda x:1 if x=='yes' else 'no')\n",
    "\n",
    "Second way:"
   ]
  },
  {
   "cell_type": "code",
   "execution_count": 84,
   "metadata": {},
   "outputs": [],
   "source": [
    "inp1['response_flag']=np.where(inp1.response=='yes',1,0)"
   ]
  },
  {
   "cell_type": "code",
   "execution_count": 85,
   "metadata": {},
   "outputs": [
    {
     "data": {
      "text/plain": [
       "0    0.882974\n",
       "1    0.117026\n",
       "Name: response_flag, dtype: float64"
      ]
     },
     "execution_count": 85,
     "metadata": {},
     "output_type": "execute_result"
    }
   ],
   "source": [
    "inp1.response_flag.value_counts(normalize=True)"
   ]
  },
  {
   "cell_type": "code",
   "execution_count": 86,
   "metadata": {},
   "outputs": [
    {
     "data": {
      "text/plain": [
       "no     0.882974\n",
       "yes    0.117026\n",
       "Name: response, dtype: float64"
      ]
     },
     "execution_count": 86,
     "metadata": {},
     "output_type": "execute_result"
    }
   ],
   "source": [
    "inp1.response.value_counts(normalize=True)"
   ]
  },
  {
   "cell_type": "code",
   "execution_count": 87,
   "metadata": {},
   "outputs": [
    {
     "data": {
      "text/plain": [
       "0.1170257523084077"
      ]
     },
     "execution_count": 87,
     "metadata": {},
     "output_type": "execute_result"
    }
   ],
   "source": [
    "inp1.response_flag.mean()"
   ]
  },
  {
   "cell_type": "markdown",
   "metadata": {},
   "source": [
    "#### Education vs response rate"
   ]
  },
  {
   "cell_type": "code",
   "execution_count": 102,
   "metadata": {},
   "outputs": [
    {
     "data": {
      "text/plain": [
       "education\n",
       "primary      0.086416\n",
       "secondary    0.105608\n",
       "tertiary     0.150083\n",
       "unknown      0.135776\n",
       "Name: response_flag, dtype: float64"
      ]
     },
     "execution_count": 102,
     "metadata": {},
     "output_type": "execute_result"
    }
   ],
   "source": [
    "#calculate the mean of response_flag with different education categories.\n",
    "inp1.groupby(by='education')['response_flag'].mean()"
   ]
  },
  {
   "cell_type": "code",
   "execution_count": 113,
   "metadata": {},
   "outputs": [
    {
     "data": {
      "image/png": "[encoded data removed]",
      "text/plain": [
       "<Figure size 432x288 with 1 Axes>"
      ]
     },
     "metadata": {
      "needs_background": "light"
     },
     "output_type": "display_data"
    }
   ],
   "source": [
    "inp1.groupby(by='education')['response_flag'].mean().plot.barh()\n",
    "plt.show()"
   ]
  },
  {
   "cell_type": "markdown",
   "metadata": {},
   "source": [
    "The positive response of customers to opening a term deposit with the bank increases with the education level. From this, it can be infered that the bank should contact people with higher education levels to effectively increase the positive response for opening a term deposit."
   ]
  },
  {
   "cell_type": "markdown",
   "metadata": {},
   "source": [
    "#### Marital vs response rate "
   ]
  },
  {
   "cell_type": "code",
   "execution_count": 114,
   "metadata": {},
   "outputs": [
    {
     "data": {
      "text/plain": [
       "marital\n",
       "divorced    0.119469\n",
       "married     0.101269\n",
       "single      0.149554\n",
       "Name: response_flag, dtype: float64"
      ]
     },
     "execution_count": 114,
     "metadata": {},
     "output_type": "execute_result"
    }
   ],
   "source": [
    "#calculate the mean of response_flag with different marital status categories.\n",
    "inp1.groupby(by='marital')['response_flag'].mean()"
   ]
  },
  {
   "cell_type": "code",
   "execution_count": 115,
   "metadata": {},
   "outputs": [
    {
     "data": {
      "image/png": "[encoded data removed]",
      "text/plain": [
       "<Figure size 432x288 with 1 Axes>"
      ]
     },
     "metadata": {
      "needs_background": "light"
     },
     "output_type": "display_data"
    }
   ],
   "source": [
    "#plot the bar graph of marital status with average value of response_flag\n",
    "inp1.groupby(by='marital')['response_flag'].mean().plot.barh()\n",
    "plt.show()"
   ]
  },
  {
   "cell_type": "markdown",
   "metadata": {},
   "source": [
    "Also, based on marital status analysis, it can be infered that single individuals have a higher positive response rate. This could be due to various reasons: One reason could be that compared with other categories of customers, single individuals have available income to deposit in long-term savings accounts (term deposit). Hence, the campaign should target single customers."
   ]
  },
  {
   "cell_type": "markdown",
   "metadata": {},
   "source": [
    "#### Loans vs response rate "
   ]
  },
  {
   "cell_type": "code",
   "execution_count": 116,
   "metadata": {},
   "outputs": [
    {
     "data": {
      "image/png": "[encoded data removed]",
      "text/plain": [
       "<Figure size 432x288 with 1 Axes>"
      ]
     },
     "metadata": {
      "needs_background": "light"
     },
     "output_type": "display_data"
    }
   ],
   "source": [
    "#plot the bar graph of personal loan status with average value of response_flag\n",
    "inp1.groupby(by='loan')['response_flag'].mean().plot.bar()\n",
    "plt.show()"
   ]
  },
  {
   "cell_type": "markdown",
   "metadata": {},
   "source": [
    "#### Housing loans vs response rate "
   ]
  },
  {
   "cell_type": "code",
   "execution_count": 112,
   "metadata": {},
   "outputs": [
    {
     "data": {
      "image/png": "[encoded data removed]",
      "text/plain": [
       "<Figure size 432x288 with 1 Axes>"
      ]
     },
     "metadata": {
      "needs_background": "light"
     },
     "output_type": "display_data"
    }
   ],
   "source": [
    "#plot the bar graph of housing loan status with average value of response_flag\n",
    "inp1.groupby(by='housing')['response_flag'].mean().plot.bar()\n",
    "plt.show()"
   ]
  },
  {
   "cell_type": "markdown",
   "metadata": {},
   "source": [
    "Another very interesting inference is that people who have not purchased any housing or personal loan are more likely to open a term deposit account with the bank. This is true, probably because people who have already availed loans may not have the necessary funds to invest in a term deposit."
   ]
  },
  {
   "cell_type": "markdown",
   "metadata": {},
   "source": [
    "#### Age vs response "
   ]
  },
  {
   "cell_type": "code",
   "execution_count": 121,
   "metadata": {},
   "outputs": [
    {
     "data": {
      "image/png": "[encoded data removed]",
      "text/plain": [
       "<Figure size 576x432 with 1 Axes>"
      ]
     },
     "metadata": {
      "needs_background": "light"
     },
     "output_type": "display_data"
    }
   ],
   "source": [
    "#plot the boxplot of age with response_flag\n",
    "plt.figure(figsize=[8,6])\n",
    "sns.boxplot(inp1.response_flag, inp1.age)\n",
    "plt.show()"
   ]
  },
  {
   "cell_type": "markdown",
   "metadata": {},
   "source": [
    "##### making buckets from age columns "
   ]
  },
  {
   "cell_type": "code",
   "execution_count": 122,
   "metadata": {},
   "outputs": [],
   "source": [
    "#create the buckets of <30, 30-40, 40-50 50-60 and 60+ from age column.\n",
    "inp1['age_group']=pd.cut(inp1.age,[0,30,40,50,60,9999], labels=['<30','30-40','40-50', '50-60','60+'])"
   ]
  },
  {
   "cell_type": "code",
   "execution_count": 124,
   "metadata": {},
   "outputs": [
    {
     "data": {
      "text/plain": [
       "age_group\n",
       "<30      0.162847\n",
       "30-40    0.102537\n",
       "40-50    0.090731\n",
       "50-60    0.100410\n",
       "60+      0.423272\n",
       "Name: response_flag, dtype: float64"
      ]
     },
     "execution_count": 124,
     "metadata": {},
     "output_type": "execute_result"
    }
   ],
   "source": [
    "inp1.groupby(by='age_group')['response_flag'].mean()"
   ]
  },
  {
   "cell_type": "code",
   "execution_count": 141,
   "metadata": {},
   "outputs": [
    {
     "data": {
      "image/png": "[encoded data removed]",
      "text/plain": [
       "<Figure size 720x288 with 2 Axes>"
      ]
     },
     "metadata": {
      "needs_background": "light"
     },
     "output_type": "display_data"
    }
   ],
   "source": [
    "#plot the percentage of each buckets and average values of response_flag in each buckets. plot in subplots.\n",
    "plt.figure(figsize=[10,4])\n",
    "plt.subplot(1,2,1)\n",
    "inp1.age_group.value_counts(normalize=True).plot.bar()\n",
    "plt.subplot(1,2,2)\n",
    "inp1.groupby(by='age_group')['response_flag'].mean().plot.bar()\n",
    "plt.show()"
   ]
  },
  {
   "cell_type": "markdown",
   "metadata": {},
   "source": [
    "Age group analysis showed that people in the age group of 60+ or <30 are more likely to respond positively. It may be true for older people, since they want to invest through more secure investment methods such as term deposits to have a secure old age."
   ]
  },
  {
   "cell_type": "markdown",
   "metadata": {},
   "source": [
    "It can be observed that the bank has mostly contacted people in the age group of 30-50, and have made much less contact with people in the age group of 60+ (plot-I), although the chances of getting a positive response are higher from the people who are in the age group of 50+ or 60+ (as shown in plot-II). "
   ]
  },
  {
   "cell_type": "code",
   "execution_count": 146,
   "metadata": {},
   "outputs": [
    {
     "data": {
      "image/png": "[encoded data removed]",
      "text/plain": [
       "<Figure size 1296x360 with 2 Axes>"
      ]
     },
     "metadata": {
      "needs_background": "light"
     },
     "output_type": "display_data"
    }
   ],
   "source": [
    "#plot the bar graph of job categories with response_flag mean value.\n",
    "plt.figure(figsize=[18,5])\n",
    "plt.subplot(1,2,1)\n",
    "inp1.job.value_counts(normalize=True).plot.bar()\n",
    "plt.subplot(1,2,2)\n",
    "inp1.groupby(by='job')['response_flag'].mean().plot.bar()\n",
    "plt.show()"
   ]
  },
  {
   "cell_type": "markdown",
   "metadata": {},
   "source": [
    "### Segment-6, Multivariate analysis "
   ]
  },
  {
   "cell_type": "markdown",
   "metadata": {},
   "source": [
    "#### Education vs marital vs response "
   ]
  },
  {
   "cell_type": "code",
   "execution_count": 147,
   "metadata": {},
   "outputs": [
    {
     "data": {
      "text/html": [
       "<div>\n",
       "<style scoped>\n",
       "    .dataframe tbody tr th:only-of-type {\n",
       "        vertical-align: middle;\n",
       "    }\n",
       "\n",
       "    .dataframe tbody tr th {\n",
       "        vertical-align: top;\n",
       "    }\n",
       "\n",
       "    .dataframe thead th {\n",
       "        text-align: right;\n",
       "    }\n",
       "</style>\n",
       "<table border=\"1\" class=\"dataframe\">\n",
       "  <thead>\n",
       "    <tr style=\"text-align: right;\">\n",
       "      <th>marital</th>\n",
       "      <th>divorced</th>\n",
       "      <th>married</th>\n",
       "      <th>single</th>\n",
       "    </tr>\n",
       "    <tr>\n",
       "      <th>education</th>\n",
       "      <th></th>\n",
       "      <th></th>\n",
       "      <th></th>\n",
       "    </tr>\n",
       "  </thead>\n",
       "  <tbody>\n",
       "    <tr>\n",
       "      <th>primary</th>\n",
       "      <td>0.138852</td>\n",
       "      <td>0.075601</td>\n",
       "      <td>0.106808</td>\n",
       "    </tr>\n",
       "    <tr>\n",
       "      <th>secondary</th>\n",
       "      <td>0.103559</td>\n",
       "      <td>0.094650</td>\n",
       "      <td>0.129271</td>\n",
       "    </tr>\n",
       "    <tr>\n",
       "      <th>tertiary</th>\n",
       "      <td>0.137415</td>\n",
       "      <td>0.129835</td>\n",
       "      <td>0.183737</td>\n",
       "    </tr>\n",
       "    <tr>\n",
       "      <th>unknown</th>\n",
       "      <td>0.142012</td>\n",
       "      <td>0.122519</td>\n",
       "      <td>0.162879</td>\n",
       "    </tr>\n",
       "  </tbody>\n",
       "</table>\n",
       "</div>"
      ],
      "text/plain": [
       "marital    divorced   married    single\n",
       "education                              \n",
       "primary    0.138852  0.075601  0.106808\n",
       "secondary  0.103559  0.094650  0.129271\n",
       "tertiary   0.137415  0.129835  0.183737\n",
       "unknown    0.142012  0.122519  0.162879"
      ]
     },
     "execution_count": 147,
     "metadata": {},
     "output_type": "execute_result"
    }
   ],
   "source": [
    "#create heat map of education vs marital vs response_flag\n",
    "res=pd.pivot_table(data=inp1,index='education', columns='marital', values='response_flag')\n",
    "res"
   ]
  },
  {
   "cell_type": "code",
   "execution_count": 152,
   "metadata": {},
   "outputs": [
    {
     "data": {
      "image/png": "[encoded data removed]",
      "text/plain": [
       "<Figure size 432x288 with 2 Axes>"
      ]
     },
     "metadata": {
      "needs_background": "light"
     },
     "output_type": "display_data"
    }
   ],
   "source": [
    "sns.heatmap(res,annot=True,cmap='Greens')\n",
    "plt.show()"
   ]
  },
  {
   "cell_type": "code",
   "execution_count": 155,
   "metadata": {},
   "outputs": [
    {
     "data": {
      "image/png": "[encoded data removed]",
      "text/plain": [
       "<Figure size 432x288 with 2 Axes>"
      ]
     },
     "metadata": {
      "needs_background": "light"
     },
     "output_type": "display_data"
    }
   ],
   "source": [
    "sns.heatmap(res,annot=True,cmap='RdYlGn', center=0.117)\n",
    "plt.show()"
   ]
  },
  {
   "cell_type": "markdown",
   "metadata": {},
   "source": [
    "People who are married and who have completed just their primary education are least likely to give a positive response on term deposits. This can be explained by the fact that people educated only up to the primary level are not aware of the benefits of term investments.  Also, married individuals need money to fulfil their daily needs, and they require cash-on-hand to buy the daily essentials; hence, they won't prefer investing in term deposits."
   ]
  },
  {
   "cell_type": "markdown",
   "metadata": {},
   "source": [
    "#### Job vs marital vs response "
   ]
  },
  {
   "cell_type": "code",
   "execution_count": 167,
   "metadata": {},
   "outputs": [
    {
     "data": {
      "image/png": "[encoded data removed]",
      "text/plain": [
       "<Figure size 1296x432 with 2 Axes>"
      ]
     },
     "metadata": {
      "needs_background": "light"
     },
     "output_type": "display_data"
    }
   ],
   "source": [
    "#create the heat map of Job vs marital vs response_flag.\n",
    "plt.figure(figsize=[18,6])\n",
    "sns.heatmap(pd.pivot_table(data=inp1, index='marital', columns='job', values='response_flag'), annot=True, cmap='RdYlGn', center=0.117)\n",
    "plt.show()"
   ]
  },
  {
   "cell_type": "markdown",
   "metadata": {},
   "source": [
    "The combinations of married with blue-collar, entrepreneur and housemaid are least likely to go for term deposits. The highest rate of positive response came from students with single marital status. The bank should, therefore, consider these aspects before taking any decision."
   ]
  },
  {
   "cell_type": "markdown",
   "metadata": {},
   "source": [
    "#### Education vs poutcome vs response"
   ]
  },
  {
   "cell_type": "code",
   "execution_count": 172,
   "metadata": {},
   "outputs": [
    {
     "data": {
      "image/png": "[encoded data removed]",
      "text/plain": [
       "<Figure size 432x288 with 2 Axes>"
      ]
     },
     "metadata": {
      "needs_background": "light"
     },
     "output_type": "display_data"
    }
   ],
   "source": [
    "#create the heat map of education vs poutcome vs response_flag.\n",
    "sns.heatmap(pd.pivot_table(data=inp1, index='education', columns='poutcome', values='response_flag'), annot=True, cmap='RdYlGn', center=inp1[inp1.pdays>0].response_flag.mean())                 \n",
    "plt.show()"
   ]
  }
 ],
 "metadata": {
  "kernelspec": {
   "display_name": "Python 3",
   "language": "python",
   "name": "python3"
  },
  "language_info": {
   "codemirror_mode": {
    "name": "ipython",
    "version": 3
   },
   "file_extension": ".py",
   "mimetype": "text/x-python",
   "name": "python",
   "nbconvert_exporter": "python",
   "pygments_lexer": "ipython3",
   "version": "3.8.3"
  }
 },
 "nbformat": 4,
 "nbformat_minor": 2
}
